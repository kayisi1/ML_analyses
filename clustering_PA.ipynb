{
  "cells": [
    {
      "cell_type": "markdown",
      "metadata": {
        "id": "no_41EGyldSs"
      },
      "source": [
        "# Programming Assignment 2: Clustering\n"
      ]
    },
    {
      "cell_type": "markdown",
      "source": [
        "**Assignment submission:** This assignment is to be uploaded as both a .ipynb file and a converted .pdf file **via Gradescope**. For help converting the notebook to a .pdf file, see [this document](https://bit.ly/cos324-colab-pdf). You can submit as often as you need, but only the last submission is graded, and submissions made after the deadline may incur a late penalty depending on your remaining free late hours."
      ],
      "metadata": {
        "id": "SbWFFNDsvIws"
      }
    },
    {
      "cell_type": "markdown",
      "source": [
        "## Assignment Instructions\n",
        "\n",
        "**Programming assignments will be written in Python.** For more help with using Python, please refer to the pre-work resources in our syllabus and to the notebook from Precept 1.\n",
        "\n",
        "* **We strongly suggest that you use Google Colab, which has many libraries pre-installed for you. *We will only be supporting Google Colab in office hours*.** We will not be able to help you with issues/instructions regarding local Python environments.\n",
        "* The instructions for the assignments will provide some guidance on finding useful functions for completing the assignment, but **it will be up to you to search for the exact documentation for specific functions**. Learning to search for helpful information is an important skill for programming.\n",
        "* **We expect your code to be readable and interpretable**, with meaningful variable names and comments that help us understand your code. Please refer to [PEP 8](https://www.python.org/dev/peps/pep-0008/) for guidance.\n",
        "* **Consulting TAs (grad or ugrad) and other students from this course is allowed**. Please refer to our collaboration policy for guidance on what is acceptable though, as well as the caution about plagiarism and the need to cite all sources you used.\n",
        "* **Consulting course staff (e.g. TAs, UCAs) and/or other students from this course is allowed.** Please refer to our collaboration policy for guidance on what is and isn't acceptable.\n",
        "  * **List your collaborators for each problem in a collaboration statement in the next cell.**\n",
        "  * You should also **cite all sources** you consulted per problem if they aren't a required or optional course reading. You can do this using a Python comment: `# Consulted this source: ...`.\n",
        "* **You may not use unauthorized packages or libraries.** If you use code from outside sources or past/other academic work, it must be targeted toward a single and minute purpose (e.g. one or two lines of code for changing the scale of plot axes) and not make up a significant portion of your submission. If you are copying a block of code, you are likely in violation of this rule."
      ],
      "metadata": {
        "id": "PtJEvqrVvLQu"
      }
    },
    {
      "cell_type": "markdown",
      "source": [
        "## Collaboration statement\n",
        "List all collaborators by name, including other students and/or course staff (e.g. TAs, UCAs). If you collaborated with no one on this assignment, write the following: ``\"I did not collaborate with anyone on this assignment.\"``\n",
        "\n",
        "**Noah Bereketab, Alfred Ripoll**"
      ],
      "metadata": {
        "id": "vW_dzkm-vNxs"
      }
    },
    {
      "cell_type": "markdown",
      "metadata": {
        "id": "FrCYMKJ6ldSu"
      },
      "source": [
        "<ins>Background/Intuition:<ins>\n",
        "\n",
        "As we progress into the age of digital information, the amount of data available for us to work with is staggering. You can peruse a billion images through google search, or query millions of songs with Spotify's API. However, while this data is in abundance, **labels** for it are usually a lot harder to come by. Suppose you wanted to group songs into subjective categories of 'chill and relaxing' versus 'upbeat and energetic'.\n",
        "\n",
        "You might process these songs and generate some potentially relevant quantifiers, say the average pitch of the song (lower = more bass, higher = more treble) and its average amplitude (lower = quieter, higher = louder).\n",
        "\n",
        "| Song | Average Pitch | Average Amplitude |\n",
        "| --- | --- | --- |\n",
        "| Typhoons, Royal Blood  | -18.1 | 19.6 |\n",
        "| Waltz No. 2, Shostakovich | -7.6 | 11.2 |\n",
        "| Sandstorm, Darude | 16.2 | 18.6 |\n",
        "| ... | ... | ... |\n",
        "<font size=\"1\">Note: Not real data</font>\n",
        "\n",
        "But unless you're willing to pay some music-appreciators a lot of money to listen to and review every song (of potentially millions of songs), there's no easy way to get definitive labels of 'relaxing' versus 'upbeat' for this data. Instead we turn towards **unsupervised** learning.\n",
        "    \n",
        "If we can cluster these songs into groups of similar pitch and amplitudes, even without labels we might be able to learn a lot about their distribution. We could listen to five or six songs from a cluster of thousands to get a good understanding of what kind of music it represents. And if we have a labeled song, maybe your favorite upbeat track for when you're at the gym, we can look at what cluster it gets put into and explore if the other songs in the cluster are also good upbeat tracks for the gym (this is not unlike the way real music services give you recommendations based off your listening habits).\n",
        "    \n",
        "Now that we've hopefully sold you on the excitement of unsupervised clustering, let's write our own k-means implementation and run it on some real data.\n",
        "    \n",
        "<ins>Format of this PA:<ins>\n",
        "1. Debugging Practice\n",
        "2. K-Means Helper Functions\n",
        "3. Run K-Means on Simulated Data\n",
        "4. Run K-Means on MNIST Image Data\n",
        "5. (Extra Credit) Compare K-Means and K-Means++"
      ]
    },
    {
      "cell_type": "markdown",
      "metadata": {
        "id": "_Pzux4H2ldSv"
      },
      "source": [
        "### ACT 1: Numpy Debugging"
      ]
    },
    {
      "cell_type": "markdown",
      "metadata": {
        "id": "onEBDA26ldSw"
      },
      "source": [
        "#### 1A: Sums and Products\n",
        "In the code below, we are trying to sum the columns of `X`, and then matrix multiply them with `y` to produce `Q`. Here we show an algebraic example for a 2x2 input.\n",
        "\n",
        "$$\n",
        "X =\n",
        "\\begin{bmatrix}\n",
        "    x_{11} & x_{12} \\\\\n",
        "    x_{21} & x_{22}\n",
        "\\end{bmatrix}, \\quad\n",
        "y =\n",
        "\\begin{bmatrix}\n",
        "    y_{1} \\\\\n",
        "    y_{2}\n",
        "\\end{bmatrix}\n",
        "$$\n",
        "\n",
        "$$\n",
        "Q =\n",
        "\\begin{bmatrix}\n",
        "    x_{11} + x_{12} \\\\\n",
        "    x_{21} + x_{22}\n",
        "\\end{bmatrix}\n",
        "\\begin{bmatrix}\n",
        "    y_{1} & y_{2}\n",
        "\\end{bmatrix}\n",
        "=\n",
        "\\begin{bmatrix}\n",
        "    (x_{11} + x_{12})y_{1} & (x_{11} + x_{12})y_{2} \\\\\n",
        "    (x_{21} + x_{22})y_{1} & (x_{21} + x_{22})y_{2}\n",
        "\\end{bmatrix}\n",
        "$$\n"
      ]
    },
    {
      "cell_type": "code",
      "execution_count": null,
      "metadata": {
        "id": "tvbjhBexldSw"
      },
      "outputs": [],
      "source": [
        "import numpy as np\n",
        "\n",
        "X = np.array([[1,2,3],\n",
        "              [4,5,6],\n",
        "              [7,8,9]])\n",
        "y = np.array([[0, 2, 1]])\n",
        "\n",
        "def broken_sum_prod(X, y):\n",
        "    X_sum = np.sum(X, axis=1)\n",
        "    Q = X_sum @ y\n",
        "    return Q"
      ]
    },
    {
      "cell_type": "markdown",
      "metadata": {
        "id": "gOPKpc8pldSx"
      },
      "source": [
        "But when we run this code, all we get is a `ValueError`, seems something went wrong with our dimensions."
      ]
    },
    {
      "cell_type": "code",
      "execution_count": null,
      "metadata": {
        "id": "1wTSA8BpldSx",
        "colab": {
          "base_uri": "https://localhost:8080/",
          "height": 279
        },
        "outputId": "7935c096-8fd6-403b-b27e-ddaa41a41053"
      },
      "outputs": [
        {
          "output_type": "error",
          "ename": "ValueError",
          "evalue": "ignored",
          "traceback": [
            "\u001b[0;31m---------------------------------------------------------------------------\u001b[0m",
            "\u001b[0;31mValueError\u001b[0m                                Traceback (most recent call last)",
            "\u001b[0;32m<ipython-input-2-806ccf8bf4fd>\u001b[0m in \u001b[0;36m<cell line: 1>\u001b[0;34m()\u001b[0m\n\u001b[0;32m----> 1\u001b[0;31m \u001b[0mbroken_sum_prod\u001b[0m\u001b[0;34m(\u001b[0m\u001b[0mX\u001b[0m\u001b[0;34m,\u001b[0m\u001b[0my\u001b[0m\u001b[0;34m)\u001b[0m\u001b[0;34m\u001b[0m\u001b[0;34m\u001b[0m\u001b[0m\n\u001b[0m",
            "\u001b[0;32m<ipython-input-1-6aaf69815099>\u001b[0m in \u001b[0;36mbroken_sum_prod\u001b[0;34m(X, y)\u001b[0m\n\u001b[1;32m      8\u001b[0m \u001b[0;32mdef\u001b[0m \u001b[0mbroken_sum_prod\u001b[0m\u001b[0;34m(\u001b[0m\u001b[0mX\u001b[0m\u001b[0;34m,\u001b[0m \u001b[0my\u001b[0m\u001b[0;34m)\u001b[0m\u001b[0;34m:\u001b[0m\u001b[0;34m\u001b[0m\u001b[0;34m\u001b[0m\u001b[0m\n\u001b[1;32m      9\u001b[0m     \u001b[0mX_sum\u001b[0m \u001b[0;34m=\u001b[0m \u001b[0mnp\u001b[0m\u001b[0;34m.\u001b[0m\u001b[0msum\u001b[0m\u001b[0;34m(\u001b[0m\u001b[0mX\u001b[0m\u001b[0;34m,\u001b[0m \u001b[0maxis\u001b[0m\u001b[0;34m=\u001b[0m\u001b[0;36m1\u001b[0m\u001b[0;34m)\u001b[0m\u001b[0;34m\u001b[0m\u001b[0;34m\u001b[0m\u001b[0m\n\u001b[0;32m---> 10\u001b[0;31m     \u001b[0mQ\u001b[0m \u001b[0;34m=\u001b[0m \u001b[0mX_sum\u001b[0m \u001b[0;34m@\u001b[0m \u001b[0my\u001b[0m\u001b[0;34m\u001b[0m\u001b[0;34m\u001b[0m\u001b[0m\n\u001b[0m\u001b[1;32m     11\u001b[0m     \u001b[0;32mreturn\u001b[0m \u001b[0mQ\u001b[0m\u001b[0;34m\u001b[0m\u001b[0;34m\u001b[0m\u001b[0m\n",
            "\u001b[0;31mValueError\u001b[0m: matmul: Input operand 1 has a mismatch in its core dimension 0, with gufunc signature (n?,k),(k,m?)->(n?,m?) (size 1 is different from 3)"
          ]
        }
      ],
      "source": [
        "broken_sum_prod(X,y)"
      ]
    },
    {
      "cell_type": "markdown",
      "metadata": {
        "id": "U1qpa9EMldSy"
      },
      "source": [
        "Investigate the shape of `X_sum` and see if you can find an argument in the documentation of [np.sum](https://numpy.org/doc/stable/reference/generated/numpy.sum.html) that can fix this error."
      ]
    },
    {
      "cell_type": "code",
      "execution_count": null,
      "metadata": {
        "tags": [],
        "id": "gEOraxGDldSz"
      },
      "outputs": [],
      "source": [
        "# ACT 1A: fix this code\n",
        "def broken_sum_prod(X, y):\n",
        "    X_sum = np.sum(X, axis=1)\n",
        "    Q = X_sum @ y\n",
        "    return Q\n",
        "\n",
        "def fixed_sum_prod(X, y):\n",
        "    X_sum = np.sum(X, axis=1, keepdims=True)\n",
        "    print(X, X_sum)\n",
        "    Q = X_sum @ y\n",
        "    return Q"
      ]
    },
    {
      "cell_type": "code",
      "execution_count": null,
      "metadata": {
        "id": "t3qF5sXnldSz",
        "colab": {
          "base_uri": "https://localhost:8080/"
        },
        "outputId": "1235e10c-4696-4abc-90f8-ac45837f55c9"
      },
      "outputs": [
        {
          "output_type": "stream",
          "name": "stdout",
          "text": [
            "[[1 2 3]\n",
            " [4 5 6]\n",
            " [7 8 9]] [[ 6]\n",
            " [15]\n",
            " [24]]\n"
          ]
        },
        {
          "output_type": "execute_result",
          "data": {
            "text/plain": [
              "array([[ 0, 12,  6],\n",
              "       [ 0, 30, 15],\n",
              "       [ 0, 48, 24]])"
            ]
          },
          "metadata": {},
          "execution_count": 4
        }
      ],
      "source": [
        "fixed_sum_prod(X,y)"
      ]
    },
    {
      "cell_type": "markdown",
      "metadata": {
        "id": "D1OlzHb4ldSz"
      },
      "source": [
        "#### 1B: Take Along Axis\n",
        "Later in this assignment we will be interested in using the function [np.take_along_axis](https://numpy.org/doc/stable/reference/generated/numpy.take_along_axis.html) to extract elements at desired indices from a matrix. You might want to familiarize yourself with its documentation before proceeding.\n",
        "\n",
        "Here we attempt to use `indices` to index into `arr` to retrieve the values `[[1],[6],[8]]`; the 0th, 2nd, and 1st values in the respective rows."
      ]
    },
    {
      "cell_type": "code",
      "execution_count": null,
      "metadata": {
        "id": "xFUUlbbeldSz"
      },
      "outputs": [],
      "source": [
        "arr = np.array([[1,2,3],\n",
        "              [4,5,6],\n",
        "              [7,8,9]])\n",
        "indices = np.array([0, 2, 1])"
      ]
    },
    {
      "cell_type": "code",
      "execution_count": null,
      "metadata": {
        "id": "T-WnUTRIldS0",
        "colab": {
          "base_uri": "https://localhost:8080/",
          "height": 321
        },
        "outputId": "38933de3-b5e7-47c9-c936-5539163ec51a"
      },
      "outputs": [
        {
          "output_type": "error",
          "ename": "ValueError",
          "evalue": "ignored",
          "traceback": [
            "\u001b[0;31m---------------------------------------------------------------------------\u001b[0m",
            "\u001b[0;31mValueError\u001b[0m                                Traceback (most recent call last)",
            "\u001b[0;32m<ipython-input-6-e0d8845f74ee>\u001b[0m in \u001b[0;36m<cell line: 1>\u001b[0;34m()\u001b[0m\n\u001b[0;32m----> 1\u001b[0;31m \u001b[0mnp\u001b[0m\u001b[0;34m.\u001b[0m\u001b[0mtake_along_axis\u001b[0m\u001b[0;34m(\u001b[0m\u001b[0marr\u001b[0m\u001b[0;34m,\u001b[0m \u001b[0mindices\u001b[0m\u001b[0;34m,\u001b[0m \u001b[0maxis\u001b[0m\u001b[0;34m=\u001b[0m\u001b[0;36m1\u001b[0m\u001b[0;34m)\u001b[0m\u001b[0;34m\u001b[0m\u001b[0;34m\u001b[0m\u001b[0m\n\u001b[0m",
            "\u001b[0;32m/usr/local/lib/python3.10/dist-packages/numpy/core/overrides.py\u001b[0m in \u001b[0;36mtake_along_axis\u001b[0;34m(*args, **kwargs)\u001b[0m\n",
            "\u001b[0;32m/usr/local/lib/python3.10/dist-packages/numpy/lib/shape_base.py\u001b[0m in \u001b[0;36mtake_along_axis\u001b[0;34m(arr, indices, axis)\u001b[0m\n\u001b[1;32m    168\u001b[0m \u001b[0;34m\u001b[0m\u001b[0m\n\u001b[1;32m    169\u001b[0m     \u001b[0;31m# use the fancy index\u001b[0m\u001b[0;34m\u001b[0m\u001b[0;34m\u001b[0m\u001b[0m\n\u001b[0;32m--> 170\u001b[0;31m     \u001b[0;32mreturn\u001b[0m \u001b[0marr\u001b[0m\u001b[0;34m[\u001b[0m\u001b[0m_make_along_axis_idx\u001b[0m\u001b[0;34m(\u001b[0m\u001b[0marr_shape\u001b[0m\u001b[0;34m,\u001b[0m \u001b[0mindices\u001b[0m\u001b[0;34m,\u001b[0m \u001b[0maxis\u001b[0m\u001b[0;34m)\u001b[0m\u001b[0;34m]\u001b[0m\u001b[0;34m\u001b[0m\u001b[0;34m\u001b[0m\u001b[0m\n\u001b[0m\u001b[1;32m    171\u001b[0m \u001b[0;34m\u001b[0m\u001b[0m\n\u001b[1;32m    172\u001b[0m \u001b[0;34m\u001b[0m\u001b[0m\n",
            "\u001b[0;32m/usr/local/lib/python3.10/dist-packages/numpy/lib/shape_base.py\u001b[0m in \u001b[0;36m_make_along_axis_idx\u001b[0;34m(arr_shape, indices, axis)\u001b[0m\n\u001b[1;32m     32\u001b[0m         \u001b[0;32mraise\u001b[0m \u001b[0mIndexError\u001b[0m\u001b[0;34m(\u001b[0m\u001b[0;34m'`indices` must be an integer array'\u001b[0m\u001b[0;34m)\u001b[0m\u001b[0;34m\u001b[0m\u001b[0;34m\u001b[0m\u001b[0m\n\u001b[1;32m     33\u001b[0m     \u001b[0;32mif\u001b[0m \u001b[0mlen\u001b[0m\u001b[0;34m(\u001b[0m\u001b[0marr_shape\u001b[0m\u001b[0;34m)\u001b[0m \u001b[0;34m!=\u001b[0m \u001b[0mindices\u001b[0m\u001b[0;34m.\u001b[0m\u001b[0mndim\u001b[0m\u001b[0;34m:\u001b[0m\u001b[0;34m\u001b[0m\u001b[0;34m\u001b[0m\u001b[0m\n\u001b[0;32m---> 34\u001b[0;31m         raise ValueError(\n\u001b[0m\u001b[1;32m     35\u001b[0m             \"`indices` and `arr` must have the same number of dimensions\")\n\u001b[1;32m     36\u001b[0m     \u001b[0mshape_ones\u001b[0m \u001b[0;34m=\u001b[0m \u001b[0;34m(\u001b[0m\u001b[0;36m1\u001b[0m\u001b[0;34m,\u001b[0m\u001b[0;34m)\u001b[0m \u001b[0;34m*\u001b[0m \u001b[0mindices\u001b[0m\u001b[0;34m.\u001b[0m\u001b[0mndim\u001b[0m\u001b[0;34m\u001b[0m\u001b[0;34m\u001b[0m\u001b[0m\n",
            "\u001b[0;31mValueError\u001b[0m: `indices` and `arr` must have the same number of dimensions"
          ]
        }
      ],
      "source": [
        "np.take_along_axis(arr, indices, axis=1)"
      ]
    },
    {
      "cell_type": "markdown",
      "metadata": {
        "id": "YhY1dv53ldS0"
      },
      "source": [
        "We appear to have ran into a dimension error, lets look at the shapes of `arr` and `indices` and investigate."
      ]
    },
    {
      "cell_type": "code",
      "execution_count": null,
      "metadata": {
        "id": "eeknE9m6ldS0",
        "colab": {
          "base_uri": "https://localhost:8080/"
        },
        "outputId": "ce6d276f-063d-43c1-ff79-345fbeb70413"
      },
      "outputs": [
        {
          "output_type": "stream",
          "name": "stdout",
          "text": [
            "(3, 3)\n",
            "(3,)\n"
          ]
        }
      ],
      "source": [
        "print(arr.shape)\n",
        "print(indices.shape)"
      ]
    },
    {
      "cell_type": "markdown",
      "metadata": {
        "id": "WioRUYTzldS0"
      },
      "source": [
        "Looking back at the documentation we spot that for the `indices` variable there's a descriptor `\"This must match the dimension of arr, but dimensions Ni and Nj only need to broadcast against arr.\"`. Though the latter part sounds cryptic, the beginning (`must match the dimension of arr`) is pretty clear. Our `arr` is two dimensional and our `indices` are a 1D vector, let's try fixing that."
      ]
    },
    {
      "cell_type": "code",
      "execution_count": null,
      "metadata": {
        "id": "fQV4JCMdldS0"
      },
      "outputs": [],
      "source": [
        "indices = np.array([[0, 2, 1]])"
      ]
    },
    {
      "cell_type": "code",
      "execution_count": null,
      "metadata": {
        "id": "2Rz-Bl3_ldS0",
        "colab": {
          "base_uri": "https://localhost:8080/"
        },
        "outputId": "6b12f431-bb52-4553-d52e-b210810096ec"
      },
      "outputs": [
        {
          "output_type": "execute_result",
          "data": {
            "text/plain": [
              "array([[1, 3, 2],\n",
              "       [4, 6, 5],\n",
              "       [7, 9, 8]])"
            ]
          },
          "metadata": {},
          "execution_count": 9
        }
      ],
      "source": [
        "np.take_along_axis(arr, indices, axis=1)"
      ]
    },
    {
      "cell_type": "markdown",
      "metadata": {
        "id": "z0sVTOi3ldS1"
      },
      "source": [
        "Hmm, this is strange; we seem to be taking the 0th **and** the 2nd **and** the 1st element of each row, something still isn't right. See if you can figure out what's going on, and get the function call to return just `[[1],[6],[8]]`."
      ]
    },
    {
      "cell_type": "code",
      "execution_count": null,
      "metadata": {
        "id": "k4MvBtx2ldS1",
        "colab": {
          "base_uri": "https://localhost:8080/"
        },
        "outputId": "95e6fe06-a936-4616-ac00-188cdec1cd41"
      },
      "outputs": [
        {
          "output_type": "execute_result",
          "data": {
            "text/plain": [
              "array([[1, 6, 8]])"
            ]
          },
          "metadata": {},
          "execution_count": 10
        }
      ],
      "source": [
        "# ACT 1B: fix this code\n",
        "np.take_along_axis(arr, indices.T, axis=1).T"
      ]
    },
    {
      "cell_type": "markdown",
      "metadata": {
        "id": "m-5U9C__ldS1"
      },
      "source": [
        "What was the error? Do we now have a better understanding of `dimensions Ni and Nj only need to broadcast against arr`? (think about how the dimensions of `indices` affect the output)"
      ]
    },
    {
      "cell_type": "markdown",
      "metadata": {
        "id": "m6TNhfjpldS1"
      },
      "source": [
        "#### <span style='color:cyan'>  Indices needed to be transposed into a column vector rather than a row. A 3x3 matrix multiplied by a 1x3 vector results in a 3x3, while the same matrix by a 3x1 vector is a 3x1 vector, which is what we want, the 0th, 2nd, and 1st elements. </span>"
      ]
    },
    {
      "cell_type": "markdown",
      "metadata": {
        "id": "G51D7fBUQCJ5"
      },
      "source": [
        "---\n",
        "\n",
        "## Clustering Overview\n",
        "\n",
        "In this assignment we'll implement k-means clustering. Let's call our input data $X$, the cluster centers $W$, and the number of clusters $k$. Each row of $X$ is a data point, each row of $W$ is the coordinates of a cluster center (a centroid). The goal of this algorithm is to minimize the distance between every data point and its closest centroid.\n",
        "\n",
        "In this k-means implementation, our loss is **the mean of squared euclidean distances** between each point and its closest centroid. More precisely, if our centroids are $\\mathbf{w}_1, \\ldots, \\mathbf{w}_k$ and our points are $\\mathbf{x}_1, \\ldots, \\mathbf{x}_n$, then our loss (averaged over n points) is:\n",
        "$$\\frac{1}{n}\\sum_{i=1}^n \\min_j ||\\mathbf{x}_i - \\mathbf{w}_j||^2, $$\n",
        "\n",
        "where the $\\min_j$ just means we incur loss only to the closest centroid $j$, and discard the distance to any centroids that aren't $j$.  \n",
        "\n",
        "As we saw in lecture this objective can also be written as:\n",
        "$$\n",
        "\\frac{1}{n}\\sum_{j=1}^{k} \\sum_{i \\in C_{j}}\\left\\|\\mathbf{x}_i - \\mathbf{w}_j\\right\\|^{2}\n",
        "$$\n",
        "Where $C_j$ is the set of points belonging to cluster $j$, and $k$ is again the total number of clusters.\n",
        "\n",
        "**Note:** This loss is **not exactly the same** as the one covered in lecture, which minimized the sum of square distances rather than the mean. We opt to use the mean of the distances so that we can later compare training and validation losses for different numbers of datapoints.\n"
      ]
    },
    {
      "cell_type": "markdown",
      "metadata": {
        "id": "0HjxGtR1QCJ5"
      },
      "source": [
        "---\n",
        "\n",
        "# Implementing K-means"
      ]
    },
    {
      "cell_type": "markdown",
      "metadata": {
        "id": "3zAJRmGgQCJ5"
      },
      "source": [
        "### ACT 2: `compute_sq_dists`\n",
        "\n",
        "For `compute_sq_dists`, your goal is to find the squared distance between each point and each centroid. We ultimately want a 2-D array where the $(i, j)$-th entry is the squared distance between $\\mathbf{x}_i$ and $\\mathbf{w}_j$. **Looping through each example in X is too slow, so we'll do this with vectorized Numpy operations**. <p>\n",
        "\n",
        "Let $\\mathbf{x}_i$ and $\\mathbf{w}_j$ be the $i$-th and $j$-th rows of $X$ and $W$ respectively. We'd like to find the squared distance between each point and each cluster centroid: this helps compute the square loss, and to find the closest centroid we will just choose the centroid with the smallest square distance. Now, a cool math trick! It turns out that:\n",
        "    \n",
        "$$||\\mathbf{x}_i - \\mathbf{w}_j||^2 = ||\\mathbf{x}_i||^2 + ||\\mathbf{w}_j||^2 - 2\\mathbf{x}_i\\cdot \\mathbf{w}_j$$\n",
        "\n",
        "To find the squared distance between each point and each centroid, first we compute the squared norm of each row of X (corresponding to $||\\mathbf{x}_i||^2$ in the above equation) and the squared norm of each row in W ($||\\mathbf{w}_j||^2$). We can make a matrix where the $(i,j)$-th entry is $||\\mathbf{x}_i||^2 + ||\\mathbf{w}_j||^2$ by summing a column of X's row-norms with a row of W's row-norms. Recall that python + Numpy will automatically perform [broadcasting](https://numpy.org/doc/stable/user/basics.broadcasting.html) if one is a column vector and the other a row vector. <p>\n",
        "\n",
        "To find $\\mathbf{x\\cdot w}$, we multiply $\\mathsf{X W^T}$, which results in an array where the in\n",
        "$(i, j)$-th entry equals $\\mathbf{x}_i\\cdot\\mathbf{w}_j$, the inner product of the $i$-th row of X\n",
        "with the $j$-th row of W. <p>\n",
        "    \n",
        "*Reminder: no for loops.*"
      ]
    },
    {
      "cell_type": "code",
      "source": [
        "x_prac = np.array([[1, 2, 3],\n",
        "                  [1, 2, 3]])\n",
        "print(x_prac.shape)\n",
        "Xsquarednormsprac = np.linalg.norm(x_prac, axis=0) ** 2\n",
        "print(Xsquarednormsprac)"
      ],
      "metadata": {
        "colab": {
          "base_uri": "https://localhost:8080/"
        },
        "id": "cjSMXZE54Hb3",
        "outputId": "d3a8164e-6708-45ea-8783-a84e36157551"
      },
      "execution_count": null,
      "outputs": [
        {
          "output_type": "stream",
          "name": "stdout",
          "text": [
            "(2, 3)\n",
            "[ 2.  8. 18.]\n"
          ]
        }
      ]
    },
    {
      "cell_type": "code",
      "execution_count": null,
      "metadata": {
        "id": "psZbi87gldS2",
        "colab": {
          "base_uri": "https://localhost:8080/"
        },
        "outputId": "5d073c77-5db2-4f24-b006-9e0290aa8fe5"
      },
      "outputs": [
        {
          "output_type": "stream",
          "name": "stdout",
          "text": [
            "[[5 0]\n",
            " [4 9]\n",
            " [6 5]]\n"
          ]
        }
      ],
      "source": [
        "#ACT 2 squared distance_matrix.  Use the trick described above to compute the distance matrix using vectorization.\n",
        "def compute_sq_dists(X, W):\n",
        "    '''\n",
        "    Inputs:\n",
        "    X is a 2-D Numpy array of shape (n, d), each row is a data point\n",
        "    W is a 2-D Numpy array of shape (k, d), each row is a cluster centroid\n",
        "\n",
        "    Output:\n",
        "    2-D Numpy array of shape (n, k) where the i,j-th entry represents the squared euclidean distance\n",
        "    from the ith row of X to the jth row of W.\n",
        "    '''\n",
        "    Xsquarednorms = (np.linalg.norm(X, axis=1)) ** 2\n",
        "    Wsquarednorms = (np.linalg.norm(W, axis=1)) ** 2\n",
        "    Xsquarednorms = np.expand_dims(Xsquarednorms, axis=1)\n",
        "    Wsquarednorms = np.expand_dims(Wsquarednorms, axis=1)\n",
        "    normmat = (Xsquarednorms + Wsquarednorms.T).astype(int)\n",
        "    xtimesw = np.dot((2*X), W.T)\n",
        "    sq_dists = normmat - xtimesw\n",
        "    return sq_dists\n",
        "\n",
        "X_test = np.array([[1, 0, -1], [0, 2, 1], [1, 2, 0]])\n",
        "W_test = np.array([[0, 0, 1], [1, 0, -1]])\n",
        "test_result = compute_sq_dists(X_test, W_test)\n",
        "\n",
        "print(test_result)\n",
        "assert test_result.shape == (3, 2) # this will crash if compute_sq_dists returns the wrong shape\n",
        "assert np.all(test_result == np.array([[5, 0], [4, 9], [6, 5]])) # this will crash if compute_sq_dists gets the wrong answer for X_test & W_test"
      ]
    },
    {
      "cell_type": "markdown",
      "metadata": {
        "id": "i7dBlem8QCJ6"
      },
      "source": [
        "### ACT 3: `update_centroids`\n",
        "\n",
        "`X` is a matrix of `n` rows, each specifying a datapoint with `d` dimensions. `assoc` is an array of length `n` with integer values between `0` and `k` which indicates which data point is *associated* to what cluster.\n",
        "\n",
        "Our goal is to return a matrix of `k` new centroids, where the value of each centroid is the mean of its associated points.\n",
        "\n",
        "Using the notation from lecture, the new centroid location for points belonging to cluster $C_j$ is:\n",
        "\n",
        "$$\n",
        " \\mathbf{w}_j = \\overline{\\mathrm{x}}\\left(\\mathrm{C}_{\\mathrm{j}}\\right)=\\frac{1}{\\mathrm{~m}_{\\mathrm{j}}} \\sum_{\\mathrm{i} \\in \\mathrm{C}_{\\mathrm{j}}}  \\mathbf{x}_i \\quad\\left(\\mathrm{m}_{\\mathrm{j}}=\\left|\\mathrm{C}_{\\mathrm{j}}\\right|\\right)\n",
        "$$\n",
        "\n",
        "\n",
        "In this act (**and only in this act**) it is okay to loop over `k`, the number of clusters, as this can reduce the complexity of the code. You're still encouraged to solve this without loops, and cannot loop over the number of data points `n` as this will grow prohibitively slow for large `n`.\n",
        "\n",
        "</font>"
      ]
    },
    {
      "cell_type": "code",
      "execution_count": null,
      "metadata": {
        "id": "wIDiRejyQCJ6",
        "colab": {
          "base_uri": "https://localhost:8080/"
        },
        "outputId": "a1b27ff1-a870-4747-bbfa-099b40add3af"
      },
      "outputs": [
        {
          "output_type": "stream",
          "name": "stdout",
          "text": [
            "[[ 1.   1.  -0.5]\n",
            " [ 0.   2.   1. ]]\n"
          ]
        }
      ],
      "source": [
        "#ACT 3 Implement update_centroids, computing the means of our most recent clusters\n",
        "def update_centroids(X, k, assoc):\n",
        "    '''\n",
        "    Inputs:\n",
        "    X is a 2-D Numpy array of shape (n, d), each row is a data point\n",
        "    k is the number of clusters\n",
        "    assoc is a 1-D array of size n indicating the center closest to each point\n",
        "\n",
        "    Output:\n",
        "    A 2-D array of cluster centroids size (k,d), where each row is a centroid.\n",
        "    If there are no points associated with a cluster, this should return\n",
        "    all zeros for that row/cluster.\n",
        "    '''\n",
        "    #initialize W to fill in values later\n",
        "    W = np.zeros((k, len(X[0])))\n",
        "    #loop through clusters\n",
        "    for i in range(k):\n",
        "      #assign clusters with association array\n",
        "      cluster = X[assoc==i]\n",
        "      #if points associated with cluster take mean to update centroid\n",
        "      #and if not, keep 0's, axis=0 bc taking rows\n",
        "      if len(cluster) != 0:\n",
        "        W[i] = np.mean(cluster, axis=0)\n",
        "    return W\n",
        "\n",
        "\n",
        "test_result = update_centroids(X_test, k=2, assoc=np.array([0, 1, 0]))\n",
        "print(test_result)\n",
        "# what shape should test_result be? what is the correct answer? optionally, add checks here\n",
        "#test_result should be k x d, or cluster size by dimensions."
      ]
    },
    {
      "cell_type": "markdown",
      "metadata": {
        "id": "M4sr5nZ0QCJ8"
      },
      "source": [
        "### Act 4: Find centers associated with each data point given distances from each point to each center.\n",
        "In `associate_centroids` we will find which centroid each data point is closest to, and also return the loss for convenience. W should first compute the square distances to each point, using a function we defined above, then use that to create the `assoc` vector as defined above/below. This can then be used to compactly estimate our overall loss (copied here for convenience, **reminder**: this is not exactly the lecture loss, we're taking the average over the number of points $n$ here).\n",
        "\n",
        "$$\n",
        "\\frac{1}{n}\\sum_{j=1}^{k} \\sum_{i \\in C_{j}}\\left\\|x^{i}-\\bar{x}\\left(C_{j}\\right)\\right\\|^{2}\n",
        "$$\n",
        "\n",
        "For computing the loss, you might need [np.take_along_axis](https://numpy.org/doc/stable/reference/generated/numpy.take_along_axis.html) from earlier.  \n",
        "**Hint:** see also [np.expand_dims](https://numpy.org/doc/stable/reference/generated/numpy.expand_dims.html) and [np.squeeze](https://numpy.org/doc/stable/reference/generated/numpy.squeeze.html)."
      ]
    },
    {
      "cell_type": "code",
      "execution_count": null,
      "metadata": {
        "id": "dSjaA5xvQCJ8"
      },
      "outputs": [],
      "source": [
        "#ACT 4 Using the distance matrix find centers associated with each point and compute loss\n",
        "def associate_centroids(X, W):\n",
        "    '''\n",
        "    Inputs:\n",
        "    X is a 2-D Numpy array of shape (n, d), each row is a data point\n",
        "    W is a 2-D Numpy array of shape (k, d), each row is a cluster centroid\n",
        "\n",
        "    Output:\n",
        "    (loss, assoc) where\n",
        "    assoc is a 1-D array of size n indicating the center closest to each point\n",
        "    loss is the average loss of the data from those associations.\n",
        "    '''\n",
        "\n",
        "    #### ACT 4A Compute the *indices* `assoc` corresponding to minimum entry in each row of dists\n",
        "    distmat = compute_sq_dists(X, W)\n",
        "    assoc = np.argmin(distmat, axis=1)\n",
        "    print(assoc)\n",
        "\n",
        "    ###   ACT4B ### Use `assoc` to get values from X and calculate loss\n",
        "\n",
        "    centroid = np.take_along_axis(distmat, np.expand_dims(assoc.T, axis=1), axis=1)\n",
        "    loss = np.mean(centroid)\n",
        "    return loss, assoc\n",
        "\n",
        "# what shape should the result be? what is a correct example usage given the formula? optionally, add a check here\n"
      ]
    },
    {
      "cell_type": "markdown",
      "metadata": {
        "id": "39asvdkKQCJ8"
      },
      "source": [
        "### Act 5: Implement random initialization of centroid\n",
        "\n",
        "To start running k-means we need starting points to use as centroids. Use [np.random.choice](https://numpy.org/doc/stable/reference/random/generated/numpy.random.choice.html) to select `k` random data points from `X` to use as initial centroids. We want to make sure our selected initialization points are *unique*, i.e. we don't accidentally pick the same point twice; [np.random.choice](https://numpy.org/doc/stable/reference/random/generated/numpy.random.choice.html) should have an argument that guarantees this."
      ]
    },
    {
      "cell_type": "code",
      "execution_count": null,
      "metadata": {
        "id": "77kPxsfUQCJ8"
      },
      "outputs": [],
      "source": [
        "# ACT 5 random initialization\n",
        "def rand_init(X,k):\n",
        "    '''\n",
        "    Inputs:\n",
        "    X is a 2-D Numpy array of shape (n, d), each row is a data point\n",
        "    k is the number of clusters\n",
        "    Outputs:\n",
        "    C a 2-D Numpy array of shape (k, d) of random points at which to initialise centroids\n",
        "    '''\n",
        "    point_index = np.random.choice(len(X), k, replace=False)\n",
        "    C = X[point_index]\n",
        "\n",
        "    return C"
      ]
    },
    {
      "cell_type": "markdown",
      "metadata": {
        "id": "AJpHMitGQCJ9"
      },
      "source": [
        "### Act 6: Putting everything together.  \n",
        "\n",
        "Implement the main iteration loop, alternating between associating data points to their nearest center, and estimating new centers. Remember to keep track of the loss at each iteration, and have add an epsilon stopping criterion (if the loss hasn't decreased by more than epsilon since the previous iteration -- proportional to the current loss -- break the loop)."
      ]
    },
    {
      "cell_type": "code",
      "execution_count": null,
      "metadata": {
        "id": "hFgiMHwdQCJ9"
      },
      "outputs": [],
      "source": [
        "# ACT 6 implement the K-means loop\n",
        "def k_means(X, k, max_iters=50, eps=1e-5):\n",
        "    '''\n",
        "    Perform k-means clusting on X using k clusters, running for max_iters loops,\n",
        "    and stop early if loss decreases by a proportion less than eps.\n",
        "    Early stopping does not occur before epoch 2.\n",
        "\n",
        "    Output (W, loss): the final centers W and loss is a list containing loss values at each iteration\n",
        "    '''\n",
        "    W = rand_init(X, k)\n",
        "    loss = []\n",
        "    for iter in range(max_iters):\n",
        "      losses, associations = associate_centroids(X, W)\n",
        "      W = update_centroids(X, k, associations)\n",
        "      loss.append(losses)\n",
        "      if iter == 0:\n",
        "        continue\n",
        "      if loss[iter] - loss[iter-1] <= eps:\n",
        "        break\n",
        "    return W, loss"
      ]
    },
    {
      "cell_type": "markdown",
      "metadata": {
        "id": "S7BoPyOIQCJ4"
      },
      "source": [
        "---\n",
        "### K-means Scatter Plot Helper Function\n",
        "  \n",
        "**This has been written for you.** <p>\n",
        "\n",
        "* Read the code and understand it from a high-level point of view. <br>\n",
        "* Understand how to call this function"
      ]
    },
    {
      "cell_type": "code",
      "execution_count": null,
      "metadata": {
        "id": "SeK0e5weQCJ4"
      },
      "outputs": [],
      "source": [
        "import matplotlib.pyplot as plt\n",
        "import numpy as np\n",
        "from scipy.linalg import eigh\n",
        "np.random.seed(324)\n",
        "\n",
        "# Purpose:\n",
        "# --------\n",
        "# Plot d-dimensional sample in 2D with cluster indicators (uses PCA to lower dimension from d to 2)\n",
        "#\n",
        "# How to call:\n",
        "# ------------\n",
        "# X is the examples: each row is an example\n",
        "# C is a 1-d array of associated centroid index (integers):\n",
        "#    Each entry in C corresponds to a row in X, so len(C) = X.shape[0]\n",
        "#    OR\n",
        "#    C = [] means only data visualization w/o centroids\n",
        "#\n",
        "#\n",
        "# Additional paramters (do not change unless instructed):\n",
        "# bb is the bounding box\n",
        "# `colors` indicates the colors: the default colors the\n",
        "#     first cluster `b` or blue, next cluster `g` or green, etc.\n",
        "#\n",
        "def plot_sample(X, C, bb=[], ms=10, colors='bgrcmk'):\n",
        "\n",
        "    if X.shape[1] > 2:\n",
        "        raise ValueError(f\"X contains {X.shape[1]}-dimensional points. Data must be 2D\")\n",
        "    if len(C) == 0:\n",
        "      C = np.ones(X.shape[0])\n",
        "\n",
        "    plt.figure(figsize=(12,6))\n",
        "    plt.subplot(1,2,1)\n",
        "\n",
        "    k = int(C.max()) + 1\n",
        "    if bb != []:\n",
        "        plt.xlim(bb[0]), plt.ylim(bb[1])\n",
        "\n",
        "    for i in range(k):\n",
        "        ind = C == i\n",
        "        plt.scatter(X[ind,0], X[ind,1], s=ms, c=colors[i % len(colors)])\n",
        "\n",
        "    plt.show()"
      ]
    },
    {
      "cell_type": "markdown",
      "metadata": {
        "id": "0l1qG7mMQCJ9"
      },
      "source": [
        "## Experimenting With Synthetic Data\n",
        "\n",
        "Now that we've implemented k-means clustering, let's run an experiment on simulated data.  \n",
        "First let's visualize the data (something you should get in the habit of):"
      ]
    },
    {
      "cell_type": "code",
      "execution_count": null,
      "metadata": {
        "id": "4thIZ8mXQCJ9",
        "scrolled": true,
        "colab": {
          "base_uri": "https://localhost:8080/",
          "height": 522
        },
        "outputId": "d1345787-1ea3-47ee-82e4-1ce83f805b5b"
      },
      "outputs": [
        {
          "output_type": "display_data",
          "data": {
            "text/plain": [
              "<Figure size 1200x600 with 1 Axes>"
            ],
            "image/png": "[encoded data removed]"
          },
          "metadata": {}
        }
      ],
      "source": [
        "!wget -q https://github.com/princeton-cos324/pa2/raw/main/simulated_data.npy\n",
        "Xt = np.load(\"simulated_data.npy\")\n",
        "\n",
        "# split into train / test\n",
        "N = len(Xt) # number of samples\n",
        "split = int(0.8*N) # keep 80% for train, 20% for val\n",
        "\n",
        "Xt_train = Xt[0:split,:]\n",
        "Xt_val= Xt[split:,:]\n",
        "_ = plot_sample(Xt_train, [])"
      ]
    },
    {
      "cell_type": "markdown",
      "metadata": {
        "id": "zflPXRpPldS4"
      },
      "source": [
        "How many clusters does it look like the data can/should be split into? Why did you pick that number?  \n",
        "(Optional, what could these clusters be if these points corresponded to our song data as described at the start?)"
      ]
    },
    {
      "cell_type": "markdown",
      "metadata": {
        "id": "TyPpEqY2ldS5"
      },
      "source": [
        "#### <span style='color:cyan'> It looks like this data could be split into perhaps 4 clusters that might correspond to average pitch, which could help us cluster similar songs </span>"
      ]
    },
    {
      "cell_type": "markdown",
      "metadata": {
        "id": "nTczzg_FQCJ-"
      },
      "source": [
        "### ACT 7: running k-means on simulated data\n",
        "Run your k-means function on the training data `Xt_train`, report the loss vector and use `plot_sample` to plot the clusters.  \n",
        "**Run each cell multiple times to see how the random initialization changes the final clusters.**  \n",
        "**Name your vector of associated centroids** `assoc`**, this will be relevant later**"
      ]
    },
    {
      "cell_type": "code",
      "execution_count": null,
      "metadata": {
        "id": "PK1Z8lAYQCJ-",
        "colab": {
          "base_uri": "https://localhost:8080/",
          "height": 1000
        },
        "outputId": "3d91bdee-dd24-47fa-d181-16717050a2a3"
      },
      "outputs": [
        {
          "output_type": "stream",
          "name": "stdout",
          "text": [
            "[0 0 0 0 0 0 0 0 0 0 0 0 0 1 0 0 0 1 0 0 0 0 0 0 0 0 0 0 0 0 0 0 0 0 0 0 0\n",
            " 1 0 0 1 0 0 0 0 0 0 0 0 0 0 1 0 0 0 0 0 0 0 0 0 0 0 0 0 0 0 0 0 0 0 0 0 1\n",
            " 0 0 0 0 0 0 0 1 0 0 0 0 0 0 0 0 0 0 0 0 0 0 0 0 0 0 0 0 0 0 0 0 0 0 0 0 0\n",
            " 0 0 1 1 1 1 1 1 1 1 1 1 1 1 1 1 1 1 1 1 1 1 1 1 1 1 1 1 1 1 1 1 1 1 1 1 1\n",
            " 1 1 1 1 1 1 1 1 1 1 1 1 1 1 1 1 1 1 1 1 1 1 1 1 1 1 1 1 1 1 1 1 1 1 1 1 1\n",
            " 1 1 1 1 1 1 1 1 1 1 1 1 1 1 1 1 1 1 1 1 1 1 1 1 1 1 1 1 1 1 1 1 1 1 1 1 1\n",
            " 1 1 1 1 1 1 1 1 1 1 1 1 1 1 1 1 1 1 1 1 1 1 1 1 1 1 1 1 1 1 1 1 1 1 1 1 1\n",
            " 1 1 1 1 1 1 1 1 1 1 1 0 0 0 0 0 0 0 0 0 0 0 0 0 0 0 0 0 0 0 0 0 0 0 0 0 0\n",
            " 0 0 0 0 0 0 0 0 0 0 0 0 0 0 0 0 0 0 0 0 0 0 0 0 0 0 0 0 0 0 0 0 0 0 0 0 0\n",
            " 0 0 0 0 0 0 0 0 0 0 0 0 0 0 0 0 0 0 0 0 0 0 0 0 0 0 0 0 0 0 0 0 0 0 0 0 0\n",
            " 0 0 0 0 0 0 0 0 0 0 0 0 0 0 0 0 0 0 0 0 0 0 0 0 0 0 0 0 0 0 0 0 0 0 0 0 0\n",
            " 0 0 0 0 0 0 0 0 0 0 0 0 0 0 0 0 0 0 0 0 0 0 0 0 0 0 0 0 0 0 0 0 0 0 0 0 0\n",
            " 0 0 0 0 0 0 0 0 0 0 0 0 0 0 0 0 0 0 0 0 0 0 0 0 0 0 0 0 0 0 0 0 0 0 0 0 0\n",
            " 0 0 0 0 0 0 0 0 0 0 0 0 0 0 0 0 0 0 0 0 0 0 0 0 0 0 0 0 0 0 0 0 0 0 0 0 0\n",
            " 0 0 0 0 0 0 0 0 0 0 0 0 0 0 0 0 0 0 0 0 0 0 0 1 1 1 1 1 1 1 1 1 1 1 1 1 1\n",
            " 1 1 1 1 1 1 1 1 1 1 1 1 1 1 1 1 1 1 1 1 1 1 1 1 1 1 1 1 1 1 1 1 1 1 1 1 1\n",
            " 1 1 1 1 1 1 1 1 1 1 1 1 1 1 1 1 1 1 1 1 1 1 1 1 1 1 1 1 1 1 1 1 1 1 1 1 1\n",
            " 1 1 1 1 1 1 1 1 1 1 1 1 1 1 1 1 1 1 1 1 1 1 1 1 1 1 1 1 1 1 1 1 1 1 1 1 1\n",
            " 1 1 1 1 1 1 1 1 1 1 1 1 0 1 1 0 1 0 1 1 0 1 1 1 1 0 1 1 1 0 1 1 1 1 1 1 1\n",
            " 1 1 1 1 1 0 1 1 0 1 1 1 1 1 1 0 1 1 1 1 1 1 1 1 1 0 1 1 1 1 1 1 1 1 0 1 1\n",
            " 1 1 1 1 1 1 1 1 1 1 0 1 1 1 1 1 1 1 1 1 1 0 1 1 1 1 1 1 1 1 1 1 1 1 1 1 1\n",
            " 1 1 1 1 0 1 1 1 1 1 0 1 1 0 1 1 1 1 1 1 1 1 1]\n",
            "[386.4046559638262]\n",
            "[0 0 0 0 0 0 0 0 0 0 0 0 0 0 0 0 0 0 0 0 0 0 0 0 0 0 0 0 0 0 0 0 0 0 0 0 0\n",
            " 0 0 0 0 0 0 0 0 0 0 0 0 0 0 0 0 0 0 0 0 0 0 0 0 0 0 0 0 0 0 0 0 0 0 0 0 0\n",
            " 0 0 0 0 0 0 0 0 0 0 0 0 0 0 0 0 0 0 0 0 0 0 0 0 0 0 0 0 0 0 0 0 0 0 0 0 0\n",
            " 0 0 1 1 1 1 1 1 1 1 1 1 1 1 1 1 1 1 1 1 1 1 1 1 1 1 1 1 1 1 1 1 1 1 1 1 1\n",
            " 1 1 1 1 1 1 1 1 1 1 1 1 1 1 1 1 1 1 1 1 1 1 1 1 1 1 1 1 1 1 1 1 1 1 1 1 1\n",
            " 1 1 1 1 1 1 1 1 1 1 1 1 1 1 1 1 1 1 1 1 1 1 1 1 1 1 1 1 1 1 1 1 1 1 1 1 1\n",
            " 1 1 1 1 1 1 1 1 1 1 1 1 1 1 1 1 1 1 1 1 1 1 1 1 1 1 1 1 1 1 1 1 1 1 1 1 1\n",
            " 1 1 1 1 1 1 1 1 1 1 1 0 0 0 0 0 0 0 0 0 0 0 0 0 0 0 0 0 0 0 0 0 0 0 0 0 0\n",
            " 0 0 0 0 0 0 0 0 0 0 0 0 0 0 0 0 0 0 0 0 0 0 0 0 0 0 0 0 0 0 0 0 0 0 0 0 0\n",
            " 0 0 0 0 0 0 0 0 0 0 0 0 0 0 0 0 0 0 0 0 0 0 0 0 0 0 0 0 0 0 0 0 0 0 0 0 0\n",
            " 0 0 0 0 0 0 0 0 0 0 0 0 0 0 0 0 0 0 0 0 0 0 0 0 0 0 0 0 0 0 0 0 0 0 0 0 0\n",
            " 0 0 0 0 0 0 0 0 0 0 0 0 0 0 0 0 0 0 0 0 0 0 0 0 0 0 0 0 0 0 0 0 0 0 0 0 0\n",
            " 0 0 0 0 0 0 0 0 0 0 0 0 0 0 0 0 0 0 0 0 0 0 0 0 0 0 0 0 0 0 0 0 0 0 0 0 0\n",
            " 0 0 0 0 0 0 0 0 0 0 0 0 0 0 0 0 0 0 0 0 0 0 0 0 0 0 0 0 0 0 0 0 0 0 0 0 0\n",
            " 0 0 0 0 0 0 0 0 0 0 0 0 0 0 0 0 0 0 0 0 0 0 0 1 1 1 1 1 1 1 1 1 1 1 1 1 1\n",
            " 1 1 1 1 1 1 1 1 1 1 1 1 1 1 1 1 1 1 1 1 1 1 1 1 1 1 1 1 1 1 1 1 1 1 1 1 1\n",
            " 1 1 1 1 1 1 1 1 1 1 1 1 1 1 1 1 1 1 1 1 1 1 1 1 1 1 1 1 1 1 1 1 1 1 1 1 1\n",
            " 1 1 1 1 1 1 1 1 1 1 1 1 1 1 1 1 1 1 1 1 1 1 1 1 1 1 1 1 1 1 1 1 1 1 1 1 1\n",
            " 1 1 1 1 1 1 1 1 1 1 1 1 0 0 0 0 0 0 0 0 0 0 0 0 0 0 0 0 0 0 0 0 0 0 0 0 0\n",
            " 0 0 0 0 0 0 0 0 0 0 0 0 0 0 0 0 0 0 0 0 0 0 0 0 0 0 0 0 0 0 0 0 0 0 0 0 0\n",
            " 0 0 0 0 0 0 0 0 0 0 0 0 0 0 0 0 0 0 0 0 0 0 0 0 0 0 0 0 0 0 0 0 0 0 0 0 0\n",
            " 0 0 0 0 0 0 0 0 0 0 0 0 0 0 0 0 0 0 0 0 1 1 1]\n"
          ]
        },
        {
          "output_type": "display_data",
          "data": {
            "text/plain": [
              "<Figure size 1200x600 with 1 Axes>"
            ],
            "image/png": "[encoded data removed]"
          },
          "metadata": {}
        }
      ],
      "source": [
        "\n",
        "# ACT7a: Run k-means clustering on Xt_train, using k = 2 clusters\n",
        "\n",
        "Ws, loss_ = k_means(Xt_train, k=2)\n",
        "print(loss_)\n",
        "\n",
        "loss_1, assoc = associate_centroids(Xt_train, Ws)\n",
        "plot_sample(Xt_train, assoc)"
      ]
    },
    {
      "cell_type": "code",
      "execution_count": null,
      "metadata": {
        "id": "ChU4gXDNQCJ-",
        "colab": {
          "base_uri": "https://localhost:8080/",
          "height": 1000
        },
        "outputId": "8872a083-f6fc-4452-ffd4-477c938224f3"
      },
      "outputs": [
        {
          "output_type": "stream",
          "name": "stdout",
          "text": [
            "[1 1 1 1 1 1 1 1 1 1 1 1 1 1 1 1 1 1 1 1 1 1 1 1 1 1 1 1 1 1 1 1 1 1 1 1 1\n",
            " 1 1 1 1 1 1 1 1 1 1 1 1 1 1 1 1 1 1 1 1 1 1 1 1 1 1 1 1 1 1 1 1 1 1 1 1 1\n",
            " 1 1 1 1 1 1 1 1 1 1 1 1 1 1 1 1 1 1 1 1 1 1 1 1 1 1 1 1 1 1 1 1 1 1 1 1 1\n",
            " 1 1 0 0 0 0 0 0 0 0 0 0 0 0 0 0 0 0 0 0 0 0 0 0 0 0 0 0 0 0 0 0 0 0 0 0 0\n",
            " 0 0 0 0 0 0 0 0 0 0 0 0 0 0 0 0 0 0 0 0 0 0 0 0 0 0 0 0 0 0 0 0 0 0 0 0 0\n",
            " 0 0 0 0 0 0 0 0 0 0 0 0 0 0 0 0 0 0 0 0 0 0 0 0 0 0 0 0 0 0 0 0 0 0 0 0 0\n",
            " 0 0 0 0 0 0 0 0 0 0 0 0 0 0 0 0 0 0 0 0 0 0 0 0 0 0 0 0 0 0 0 0 0 0 0 0 0\n",
            " 0 0 0 0 0 0 0 0 0 0 0 1 1 1 1 1 1 1 1 1 1 1 1 1 1 1 1 1 1 1 1 1 1 1 1 1 1\n",
            " 1 1 1 1 1 1 1 1 1 1 1 1 1 1 1 1 1 1 1 1 1 1 1 1 1 1 1 1 1 1 1 1 1 1 1 1 1\n",
            " 1 1 1 1 1 1 1 1 1 1 1 1 1 1 1 1 1 1 1 1 1 1 1 1 1 1 1 1 1 1 1 1 1 1 1 1 1\n",
            " 1 1 1 1 2 2 2 2 2 2 2 2 2 2 2 2 2 2 2 2 2 2 2 2 2 2 2 2 2 2 2 2 2 2 2 2 2\n",
            " 2 2 2 2 2 2 2 2 2 2 2 2 2 2 2 2 2 2 2 2 2 2 2 2 2 2 2 2 2 2 2 2 2 2 2 2 2\n",
            " 2 2 2 2 2 2 2 2 2 2 2 2 2 2 2 2 2 2 2 2 2 2 2 2 2 2 2 2 2 2 2 2 2 2 2 2 2\n",
            " 2 2 2 2 2 2 2 2 2 2 2 2 2 2 2 2 2 2 2 2 2 2 2 2 2 2 2 2 2 2 2 2 2 2 2 2 2\n",
            " 2 2 2 2 2 2 2 2 2 2 2 2 2 2 2 2 2 2 2 2 2 2 2 0 0 0 0 0 0 0 0 0 0 0 0 0 0\n",
            " 0 0 0 0 0 0 0 0 0 0 0 0 0 0 0 0 0 0 0 0 0 0 0 0 0 0 0 0 0 0 0 0 0 0 0 0 0\n",
            " 0 0 0 0 0 0 0 0 0 0 0 0 0 0 0 0 0 0 0 0 0 0 0 0 0 0 0 0 0 0 0 0 0 0 0 0 0\n",
            " 0 0 0 0 0 0 0 0 0 0 0 0 0 0 0 0 0 0 0 0 0 0 0 0 0 0 0 0 0 0 0 0 0 0 0 0 0\n",
            " 0 0 0 0 0 0 0 0 0 0 0 0 1 1 1 1 1 1 1 1 1 1 1 1 1 1 1 1 1 1 1 1 1 1 1 1 1\n",
            " 1 1 1 1 1 1 1 1 1 1 1 1 1 1 1 1 1 1 1 1 1 1 1 1 1 1 1 1 1 1 1 1 1 1 1 1 1\n",
            " 1 1 1 1 1 1 1 1 1 1 1 1 1 1 1 1 1 1 1 1 1 1 1 1 1 1 1 1 1 1 1 1 1 1 1 1 1\n",
            " 1 1 1 1 1 1 1 1 1 1 1 1 1 1 1 1 1 1 1 1 0 0 0]\n",
            "[67.42461877168023]\n",
            "[1 1 1 1 1 1 1 1 1 1 1 1 1 1 1 1 1 1 1 1 1 1 1 1 1 1 1 1 1 1 1 1 1 1 1 1 1\n",
            " 1 1 1 1 1 1 1 1 1 1 1 1 1 1 1 1 1 1 1 1 1 1 1 1 1 1 1 1 1 1 1 1 1 1 1 1 1\n",
            " 1 1 1 1 1 1 1 1 1 1 1 1 1 1 1 1 1 1 1 1 1 1 1 1 1 1 1 1 1 1 1 1 1 1 1 1 1\n",
            " 1 1 0 0 0 0 0 0 0 0 0 0 0 0 0 0 0 0 0 0 0 0 0 0 0 0 0 0 0 0 0 0 0 0 0 0 0\n",
            " 0 0 0 0 0 0 0 0 0 0 0 0 0 0 0 0 0 0 0 0 0 0 0 0 0 0 0 0 0 0 0 0 0 0 0 0 0\n",
            " 0 0 0 0 0 0 0 0 0 0 0 0 0 0 0 0 0 0 0 0 0 0 0 0 0 0 0 0 0 0 0 0 0 0 0 0 0\n",
            " 0 0 0 0 0 0 0 0 0 0 0 0 0 0 0 0 0 0 0 0 0 0 0 0 0 0 0 0 0 0 0 0 0 0 0 0 0\n",
            " 0 0 0 0 0 0 0 0 0 0 0 1 1 1 1 1 1 1 1 1 1 1 1 1 1 1 1 1 1 1 1 1 1 1 1 1 1\n",
            " 1 1 1 1 1 1 1 1 1 1 1 1 1 1 1 1 1 1 1 1 1 1 1 1 1 1 1 1 1 1 1 1 1 1 1 1 1\n",
            " 1 1 1 1 1 1 1 1 1 1 1 1 1 1 1 1 1 1 1 1 1 1 1 1 1 1 1 1 1 1 1 1 1 1 1 1 1\n",
            " 1 1 1 1 2 2 2 2 2 2 2 2 2 2 2 2 2 2 2 2 2 2 2 2 2 2 2 2 2 2 2 2 2 2 2 2 2\n",
            " 2 2 2 2 2 2 2 2 2 2 2 2 2 2 2 2 2 2 2 2 2 2 2 2 2 2 2 2 2 2 2 2 2 2 2 2 2\n",
            " 2 2 2 2 2 2 2 2 2 2 2 2 2 2 2 2 2 2 2 2 2 2 2 2 2 2 2 2 2 2 2 2 2 2 2 2 2\n",
            " 2 2 2 2 2 2 2 2 2 2 2 2 2 2 2 2 2 2 2 2 2 2 2 2 2 2 2 2 2 2 2 2 2 2 2 2 2\n",
            " 2 2 2 2 2 2 2 2 2 2 2 2 2 2 2 2 2 2 2 2 2 2 2 0 0 0 0 0 0 0 0 0 0 0 0 0 0\n",
            " 0 0 0 0 0 0 0 0 0 0 0 0 0 0 0 0 0 0 0 0 0 0 0 0 0 0 0 0 0 0 0 0 0 0 0 0 0\n",
            " 0 0 0 0 0 0 0 0 0 0 0 0 0 0 0 0 0 0 0 0 0 0 0 0 0 0 0 0 0 0 0 0 0 0 0 0 0\n",
            " 0 0 0 0 0 0 0 0 0 0 0 0 0 0 0 0 0 0 0 0 0 0 0 0 0 0 0 0 0 0 0 0 0 0 0 0 0\n",
            " 0 0 0 0 0 0 0 0 0 0 0 0 1 1 1 1 1 1 1 1 1 1 1 1 1 1 1 1 1 1 1 1 1 1 1 1 1\n",
            " 1 1 1 1 1 1 1 1 1 1 1 1 1 1 1 1 1 1 1 1 1 1 1 1 1 1 1 1 1 1 1 1 1 1 1 1 1\n",
            " 1 1 1 1 1 1 1 1 1 1 1 1 1 1 1 1 1 1 1 1 1 1 1 1 1 1 1 1 1 1 1 1 1 1 1 1 1\n",
            " 1 1 1 1 1 1 1 1 1 1 1 1 1 1 1 1 1 1 1 1 0 0 0]\n"
          ]
        },
        {
          "output_type": "display_data",
          "data": {
            "text/plain": [
              "<Figure size 1200x600 with 1 Axes>"
            ],
            "image/png": "[encoded data removed]"
          },
          "metadata": {}
        }
      ],
      "source": [
        "# ACT7b: Run k-means clustering on Xt_train, using k = 3 clusters\n",
        "\n",
        "Ws, loss_ = k_means(Xt_train, k=3)\n",
        "print(loss_)\n",
        "\n",
        "loss_1, assoc = associate_centroids(Xt_train, Ws)\n",
        "plot_sample(Xt_train, assoc)"
      ]
    },
    {
      "cell_type": "code",
      "execution_count": null,
      "metadata": {
        "id": "9zfIUxxdQCJ_",
        "colab": {
          "base_uri": "https://localhost:8080/",
          "height": 1000
        },
        "outputId": "8e70c87a-1f7d-4bcd-b917-4b40be92a190"
      },
      "outputs": [
        {
          "output_type": "stream",
          "name": "stdout",
          "text": [
            "[1 1 1 1 1 1 1 1 1 1 1 1 1 1 1 1 1 1 1 1 1 1 1 1 1 1 1 1 1 1 1 1 1 1 1 1 1\n",
            " 1 1 1 1 1 1 1 1 1 1 1 1 1 1 1 1 1 1 1 1 1 1 1 1 1 1 1 1 1 1 1 1 1 1 1 1 1\n",
            " 1 1 1 1 1 1 1 1 1 1 1 1 1 1 1 1 1 1 1 1 1 1 1 1 1 1 1 1 1 1 1 1 1 1 1 1 1\n",
            " 1 1 2 2 2 2 2 2 2 2 2 2 2 2 2 2 2 2 2 2 2 2 2 2 2 2 2 2 2 2 2 2 2 2 2 2 2\n",
            " 2 2 2 2 2 2 2 2 2 2 2 2 2 2 2 2 2 2 2 2 2 2 2 2 2 2 2 2 2 2 2 2 2 2 2 2 2\n",
            " 2 2 2 2 2 2 2 2 2 2 2 2 2 2 2 2 2 2 2 2 2 2 2 2 2 2 2 2 2 2 2 2 2 2 2 2 2\n",
            " 2 2 2 2 2 2 2 2 2 2 2 2 2 2 2 2 2 2 2 2 2 2 2 2 2 2 2 2 2 2 2 2 2 2 2 2 2\n",
            " 2 2 2 2 2 2 2 2 2 2 2 1 1 1 1 1 1 1 1 1 1 1 1 1 1 1 1 1 1 1 1 1 1 1 1 1 1\n",
            " 1 1 1 1 1 1 1 1 1 1 1 1 1 1 1 1 1 1 1 1 1 1 1 1 1 1 1 1 1 1 1 1 1 1 1 1 1\n",
            " 1 1 1 1 1 1 1 1 1 1 1 1 1 1 1 1 1 1 1 1 1 1 1 1 1 1 1 1 1 1 1 1 1 1 1 1 1\n",
            " 1 1 1 1 0 0 0 0 0 0 0 0 0 0 0 0 0 0 0 0 0 0 0 0 0 0 0 0 0 0 0 0 0 0 0 0 0\n",
            " 0 0 0 0 0 0 0 0 0 0 0 0 0 0 0 0 0 0 0 0 0 0 0 0 0 0 0 0 0 0 0 0 0 0 0 0 0\n",
            " 0 0 0 0 0 0 0 0 0 0 0 0 0 0 0 0 0 0 0 0 0 0 0 0 0 0 0 0 0 0 0 0 0 0 0 0 0\n",
            " 0 0 0 0 0 0 0 0 0 0 0 0 0 0 0 0 0 0 0 0 0 0 0 0 0 0 0 0 0 0 0 0 0 0 0 0 0\n",
            " 0 0 0 0 0 0 0 0 0 0 0 0 0 0 0 0 0 0 0 0 0 0 0 2 3 3 2 2 2 2 2 3 2 2 2 3 3\n",
            " 2 3 2 2 2 3 2 3 2 2 3 2 3 2 2 3 3 3 2 3 2 2 2 3 2 2 3 2 3 2 3 3 2 3 3 3 2\n",
            " 3 2 3 2 2 2 2 2 2 2 3 2 2 2 2 2 2 2 3 2 2 3 3 3 2 2 2 2 2 3 2 2 2 3 3 3 2\n",
            " 2 2 2 2 2 3 2 3 2 3 2 3 2 2 2 3 3 2 2 3 2 2 2 2 2 2 2 2 3 2 3 3 2 2 3 2 3\n",
            " 2 2 3 3 2 2 2 2 2 3 3 2 1 1 1 1 1 1 1 1 1 1 1 1 1 1 1 1 1 1 1 1 1 1 1 1 1\n",
            " 1 1 1 1 1 1 1 1 1 1 1 1 1 1 1 1 1 1 1 1 1 1 1 1 1 1 1 1 1 1 1 1 1 1 1 1 1\n",
            " 1 1 1 1 1 1 1 1 1 1 1 1 1 1 1 1 1 1 1 1 1 1 1 1 1 1 1 1 1 1 1 1 1 1 1 1 1\n",
            " 1 1 1 1 1 1 1 1 1 1 1 1 1 1 1 1 1 1 1 1 2 2 2]\n",
            "[48.64762626593475]\n",
            "[1 1 1 1 1 1 1 1 1 1 1 1 1 1 1 1 1 1 1 1 1 1 1 1 1 1 1 1 1 1 1 1 1 1 1 1 1\n",
            " 1 1 1 1 1 1 1 1 1 1 1 1 1 1 1 1 1 1 1 1 1 1 1 1 1 1 1 1 1 1 1 1 1 1 1 1 1\n",
            " 1 1 1 1 1 1 1 1 1 1 1 1 1 1 1 1 1 1 1 1 1 1 1 1 1 1 1 1 1 1 1 1 1 1 1 1 1\n",
            " 1 1 2 2 2 2 2 2 2 2 2 2 2 2 2 2 2 2 2 2 2 2 2 2 2 2 2 2 2 2 2 2 2 2 2 2 2\n",
            " 2 2 2 2 2 2 2 2 2 2 2 2 2 2 2 2 2 2 2 2 2 2 2 2 2 2 2 2 2 2 2 2 2 2 2 2 2\n",
            " 2 2 2 2 2 2 2 2 2 2 2 2 2 2 2 2 2 2 2 2 2 2 2 2 2 2 2 2 2 2 2 2 2 2 2 2 2\n",
            " 2 2 2 2 2 2 2 2 2 2 2 2 2 2 2 2 2 2 2 2 2 2 2 2 2 2 2 2 2 2 2 2 2 2 2 2 2\n",
            " 2 2 2 2 2 2 2 2 2 2 2 1 1 1 1 1 1 1 1 1 1 1 1 1 1 1 1 1 1 1 1 1 1 1 1 1 1\n",
            " 1 1 1 1 1 1 1 1 1 1 1 1 1 1 1 1 1 1 1 1 1 1 1 1 1 1 1 1 1 1 1 1 1 1 1 1 1\n",
            " 1 1 1 1 1 1 1 1 1 1 1 1 1 1 1 1 1 1 1 1 1 1 1 1 1 1 1 1 1 1 1 1 1 1 1 1 1\n",
            " 1 1 1 1 0 0 0 0 0 0 0 0 0 0 0 0 0 0 0 0 0 0 0 0 0 0 0 0 0 0 0 0 0 0 0 0 0\n",
            " 0 0 0 0 0 0 0 0 0 0 0 0 0 0 0 0 0 0 0 0 0 0 0 0 0 0 0 0 0 0 0 0 0 0 0 0 0\n",
            " 0 0 0 0 0 0 0 0 0 0 0 0 0 0 0 0 0 0 0 0 0 0 0 0 0 0 0 0 0 0 0 0 0 0 0 0 0\n",
            " 0 0 0 0 0 0 0 0 0 0 0 0 0 0 0 0 0 0 0 0 0 0 0 0 0 0 0 0 0 0 0 0 0 0 0 0 0\n",
            " 0 0 0 0 0 0 0 0 0 0 0 0 0 0 0 0 0 0 0 0 0 0 0 3 3 3 3 2 3 2 3 3 3 3 3 3 3\n",
            " 3 3 2 3 3 3 3 3 3 3 3 3 3 3 2 3 3 3 3 3 3 3 3 3 3 3 3 3 3 3 3 3 2 3 3 3 2\n",
            " 3 3 3 3 3 2 3 3 3 3 3 3 3 3 3 3 3 3 3 2 3 3 3 3 3 3 3 3 2 3 2 2 2 3 3 3 3\n",
            " 2 3 3 3 3 3 2 3 2 3 3 3 3 2 3 3 3 2 2 3 2 2 2 2 3 3 3 2 3 3 3 3 2 2 3 3 3\n",
            " 3 3 3 3 2 2 2 3 2 3 3 3 1 1 1 1 1 1 1 1 1 1 1 1 1 1 1 1 1 1 1 1 1 1 1 1 1\n",
            " 1 1 1 1 1 1 1 1 1 1 1 1 1 1 1 1 1 1 1 1 1 1 1 1 1 1 1 1 1 1 1 1 1 1 1 1 1\n",
            " 1 1 1 1 1 1 1 1 1 1 1 1 1 1 1 1 1 1 1 1 1 1 1 1 1 1 1 1 1 1 1 1 1 1 1 1 1\n",
            " 1 1 1 1 1 1 1 1 1 1 1 1 1 1 1 1 1 1 1 1 2 2 2]\n"
          ]
        },
        {
          "output_type": "display_data",
          "data": {
            "text/plain": [
              "<Figure size 1200x600 with 1 Axes>"
            ],
            "image/png": "[encoded data removed]"
          },
          "metadata": {}
        }
      ],
      "source": [
        "# ACT7c: Run k-means clustering on Xt_train, using k = 4 clusters\n",
        "# you might need to run this one several times to get the `expected` clusters\n",
        "Ws, loss_ = k_means(Xt_train, k=4)\n",
        "print(loss_)\n",
        "\n",
        "loss_1, assoc = associate_centroids(Xt_train, Ws)\n",
        "plot_sample(Xt_train, assoc)"
      ]
    },
    {
      "cell_type": "markdown",
      "metadata": {
        "id": "KlQXK8onldS6"
      },
      "source": [
        "### ACT 8: Loss Curves\n",
        "Let's look at how our final loss changes as a function of `k`, the cluster count (i.e. let's see those elbow curves). For each `k` value in the range of `1,...,20` run k-means `20` times (to average out the variability from the initialization). Record the mean training and validation loss for each set of runs.\n",
        "\n",
        "Finally, make a **well-labeled** plot of training and validation losses versus `k`.\n",
        "\n",
        "**Hint:** you should never be running `k_means` on the validation dataset, *another function* you defined above can return you the validation loss given the centroid locations you learned from the training set"
      ]
    },
    {
      "cell_type": "code",
      "execution_count": null,
      "metadata": {
        "id": "kTrulHv_ldS6",
        "colab": {
          "base_uri": "https://localhost:8080/",
          "height": 355
        },
        "outputId": "5656f6ac-ec70-48ec-e852-e410ee5b51e1"
      },
      "outputs": [
        {
          "output_type": "error",
          "ename": "ValueError",
          "evalue": "ignored",
          "traceback": [
            "\u001b[0;31m---------------------------------------------------------------------------\u001b[0m",
            "\u001b[0;31mValueError\u001b[0m                                Traceback (most recent call last)",
            "\u001b[0;32m<ipython-input-101-dd792a1edf51>\u001b[0m in \u001b[0;36m<cell line: 5>\u001b[0;34m()\u001b[0m\n\u001b[1;32m      4\u001b[0m \u001b[0;34m\u001b[0m\u001b[0m\n\u001b[1;32m      5\u001b[0m \u001b[0;32mfor\u001b[0m \u001b[0mval\u001b[0m \u001b[0;32min\u001b[0m \u001b[0mrange\u001b[0m\u001b[0;34m(\u001b[0m\u001b[0;36m19\u001b[0m\u001b[0;34m)\u001b[0m\u001b[0;34m:\u001b[0m\u001b[0;34m\u001b[0m\u001b[0;34m\u001b[0m\u001b[0m\n\u001b[0;32m----> 6\u001b[0;31m   \u001b[0mk_means\u001b[0m\u001b[0;34m(\u001b[0m\u001b[0mXt_train\u001b[0m\u001b[0;34m,\u001b[0m \u001b[0mval\u001b[0m\u001b[0;34m)\u001b[0m\u001b[0;34m\u001b[0m\u001b[0;34m\u001b[0m\u001b[0m\n\u001b[0m",
            "\u001b[0;32m<ipython-input-100-3af541cc763e>\u001b[0m in \u001b[0;36mk_means\u001b[0;34m(X, k, max_iters, eps)\u001b[0m\n\u001b[1;32m     11\u001b[0m     \u001b[0mloss\u001b[0m \u001b[0;34m=\u001b[0m \u001b[0;34m[\u001b[0m\u001b[0;34m]\u001b[0m\u001b[0;34m\u001b[0m\u001b[0;34m\u001b[0m\u001b[0m\n\u001b[1;32m     12\u001b[0m     \u001b[0;32mfor\u001b[0m \u001b[0miter\u001b[0m \u001b[0;32min\u001b[0m \u001b[0mrange\u001b[0m\u001b[0;34m(\u001b[0m\u001b[0mmax_iters\u001b[0m\u001b[0;34m)\u001b[0m\u001b[0;34m:\u001b[0m\u001b[0;34m\u001b[0m\u001b[0;34m\u001b[0m\u001b[0m\n\u001b[0;32m---> 13\u001b[0;31m       \u001b[0mlosses\u001b[0m\u001b[0;34m,\u001b[0m \u001b[0massociations\u001b[0m \u001b[0;34m=\u001b[0m \u001b[0massociate_centroids\u001b[0m\u001b[0;34m(\u001b[0m\u001b[0mX\u001b[0m\u001b[0;34m,\u001b[0m \u001b[0mW\u001b[0m\u001b[0;34m)\u001b[0m\u001b[0;34m\u001b[0m\u001b[0;34m\u001b[0m\u001b[0m\n\u001b[0m\u001b[1;32m     14\u001b[0m       \u001b[0mW\u001b[0m \u001b[0;34m=\u001b[0m \u001b[0mupdate_centroids\u001b[0m\u001b[0;34m(\u001b[0m\u001b[0mX\u001b[0m\u001b[0;34m,\u001b[0m \u001b[0mk\u001b[0m\u001b[0;34m,\u001b[0m \u001b[0massociations\u001b[0m\u001b[0;34m)\u001b[0m\u001b[0;34m\u001b[0m\u001b[0;34m\u001b[0m\u001b[0m\n\u001b[1;32m     15\u001b[0m       \u001b[0mloss\u001b[0m\u001b[0;34m.\u001b[0m\u001b[0mappend\u001b[0m\u001b[0;34m(\u001b[0m\u001b[0mlosses\u001b[0m\u001b[0;34m)\u001b[0m\u001b[0;34m\u001b[0m\u001b[0;34m\u001b[0m\u001b[0m\n",
            "\u001b[0;32m<ipython-input-74-908294bda2fd>\u001b[0m in \u001b[0;36massociate_centroids\u001b[0;34m(X, W)\u001b[0m\n\u001b[1;32m     14\u001b[0m     \u001b[0;31m#### ACT 4A Compute the *indices* `assoc` corresponding to minimum entry in each row of dists\u001b[0m\u001b[0;34m\u001b[0m\u001b[0;34m\u001b[0m\u001b[0m\n\u001b[1;32m     15\u001b[0m     \u001b[0mdistmat\u001b[0m \u001b[0;34m=\u001b[0m \u001b[0mcompute_sq_dists\u001b[0m\u001b[0;34m(\u001b[0m\u001b[0mX\u001b[0m\u001b[0;34m,\u001b[0m \u001b[0mW\u001b[0m\u001b[0;34m)\u001b[0m\u001b[0;34m\u001b[0m\u001b[0;34m\u001b[0m\u001b[0m\n\u001b[0;32m---> 16\u001b[0;31m     \u001b[0massoc\u001b[0m \u001b[0;34m=\u001b[0m \u001b[0mnp\u001b[0m\u001b[0;34m.\u001b[0m\u001b[0margmin\u001b[0m\u001b[0;34m(\u001b[0m\u001b[0mdistmat\u001b[0m\u001b[0;34m,\u001b[0m \u001b[0maxis\u001b[0m\u001b[0;34m=\u001b[0m\u001b[0;36m1\u001b[0m\u001b[0;34m)\u001b[0m\u001b[0;34m\u001b[0m\u001b[0;34m\u001b[0m\u001b[0m\n\u001b[0m\u001b[1;32m     17\u001b[0m     \u001b[0mprint\u001b[0m\u001b[0;34m(\u001b[0m\u001b[0massoc\u001b[0m\u001b[0;34m)\u001b[0m\u001b[0;34m\u001b[0m\u001b[0;34m\u001b[0m\u001b[0m\n\u001b[1;32m     18\u001b[0m \u001b[0;34m\u001b[0m\u001b[0m\n",
            "\u001b[0;32m/usr/local/lib/python3.10/dist-packages/numpy/core/overrides.py\u001b[0m in \u001b[0;36margmin\u001b[0;34m(*args, **kwargs)\u001b[0m\n",
            "\u001b[0;32m/usr/local/lib/python3.10/dist-packages/numpy/core/fromnumeric.py\u001b[0m in \u001b[0;36margmin\u001b[0;34m(a, axis, out, keepdims)\u001b[0m\n\u001b[1;32m   1310\u001b[0m     \"\"\"\n\u001b[1;32m   1311\u001b[0m     \u001b[0mkwds\u001b[0m \u001b[0;34m=\u001b[0m \u001b[0;34m{\u001b[0m\u001b[0;34m'keepdims'\u001b[0m\u001b[0;34m:\u001b[0m \u001b[0mkeepdims\u001b[0m\u001b[0;34m}\u001b[0m \u001b[0;32mif\u001b[0m \u001b[0mkeepdims\u001b[0m \u001b[0;32mis\u001b[0m \u001b[0;32mnot\u001b[0m \u001b[0mnp\u001b[0m\u001b[0;34m.\u001b[0m\u001b[0m_NoValue\u001b[0m \u001b[0;32melse\u001b[0m \u001b[0;34m{\u001b[0m\u001b[0;34m}\u001b[0m\u001b[0;34m\u001b[0m\u001b[0;34m\u001b[0m\u001b[0m\n\u001b[0;32m-> 1312\u001b[0;31m     \u001b[0;32mreturn\u001b[0m \u001b[0m_wrapfunc\u001b[0m\u001b[0;34m(\u001b[0m\u001b[0ma\u001b[0m\u001b[0;34m,\u001b[0m \u001b[0;34m'argmin'\u001b[0m\u001b[0;34m,\u001b[0m \u001b[0maxis\u001b[0m\u001b[0;34m=\u001b[0m\u001b[0maxis\u001b[0m\u001b[0;34m,\u001b[0m \u001b[0mout\u001b[0m\u001b[0;34m=\u001b[0m\u001b[0mout\u001b[0m\u001b[0;34m,\u001b[0m \u001b[0;34m**\u001b[0m\u001b[0mkwds\u001b[0m\u001b[0;34m)\u001b[0m\u001b[0;34m\u001b[0m\u001b[0;34m\u001b[0m\u001b[0m\n\u001b[0m\u001b[1;32m   1313\u001b[0m \u001b[0;34m\u001b[0m\u001b[0m\n\u001b[1;32m   1314\u001b[0m \u001b[0;34m\u001b[0m\u001b[0m\n",
            "\u001b[0;32m/usr/local/lib/python3.10/dist-packages/numpy/core/fromnumeric.py\u001b[0m in \u001b[0;36m_wrapfunc\u001b[0;34m(obj, method, *args, **kwds)\u001b[0m\n\u001b[1;32m     55\u001b[0m \u001b[0;34m\u001b[0m\u001b[0m\n\u001b[1;32m     56\u001b[0m     \u001b[0;32mtry\u001b[0m\u001b[0;34m:\u001b[0m\u001b[0;34m\u001b[0m\u001b[0;34m\u001b[0m\u001b[0m\n\u001b[0;32m---> 57\u001b[0;31m         \u001b[0;32mreturn\u001b[0m \u001b[0mbound\u001b[0m\u001b[0;34m(\u001b[0m\u001b[0;34m*\u001b[0m\u001b[0margs\u001b[0m\u001b[0;34m,\u001b[0m \u001b[0;34m**\u001b[0m\u001b[0mkwds\u001b[0m\u001b[0;34m)\u001b[0m\u001b[0;34m\u001b[0m\u001b[0;34m\u001b[0m\u001b[0m\n\u001b[0m\u001b[1;32m     58\u001b[0m     \u001b[0;32mexcept\u001b[0m \u001b[0mTypeError\u001b[0m\u001b[0;34m:\u001b[0m\u001b[0;34m\u001b[0m\u001b[0;34m\u001b[0m\u001b[0m\n\u001b[1;32m     59\u001b[0m         \u001b[0;31m# A TypeError occurs if the object does have such a method in its\u001b[0m\u001b[0;34m\u001b[0m\u001b[0;34m\u001b[0m\u001b[0m\n",
            "\u001b[0;31mValueError\u001b[0m: attempt to get argmin of an empty sequence"
          ]
        }
      ],
      "source": [
        "# Act8: build elbow curve of train + val losses\n",
        "# Warning, this code should take 20-30 seconds to run; if it's taking forever, you probably didn't\n",
        "# vectorize your k-means code correctly (remember, no for loops over the data points)\n",
        "\n",
        "for val in range(19):\n",
        "  k_means(Xt_train, val)"
      ]
    },
    {
      "cell_type": "markdown",
      "metadata": {
        "id": "Ek0fh1z4ldS6"
      },
      "source": [
        "Around how many clusters do we see the *elbow* in the loss curve (look back to the lecture slides if you need a reminder on what the elbow is).  \n",
        "Does this make sense given your previous observations on the distribution of the data?"
      ]
    },
    {
      "cell_type": "markdown",
      "metadata": {
        "id": "5VxQHcsUldS6"
      },
      "source": [
        "#### <span style='color:cyan'>  Your answer here: </span>"
      ]
    },
    {
      "cell_type": "markdown",
      "metadata": {
        "id": "G__9f-c1ldS6"
      },
      "source": [
        "It looks like we can minimize both the validation and training loss by taking more and more clusters. Why would this be a bad idea in practice? Does having a ton of clusters likely **reduce** or **increase** our ability to infer useful information from the data?"
      ]
    },
    {
      "cell_type": "markdown",
      "metadata": {
        "id": "yxhkOfaljqkB"
      },
      "source": [
        "#### <span style='color:cyan'>  Your answer here: </span>"
      ]
    },
    {
      "cell_type": "markdown",
      "metadata": {
        "id": "z0iAUSZ8ldS7"
      },
      "source": [
        "## Experimenting With MNIST Data\n",
        "\n",
        "Now that we understand some of the behavior of K-means for our simulated dataset, let's see how this extends to images of digits."
      ]
    },
    {
      "cell_type": "code",
      "execution_count": null,
      "metadata": {
        "id": "XoSrwLsvldS7"
      },
      "outputs": [],
      "source": [
        "from sklearn.datasets import load_digits\n",
        "from sklearn.preprocessing import scale\n",
        "from sklearn.decomposition import PCA"
      ]
    },
    {
      "cell_type": "code",
      "execution_count": null,
      "metadata": {
        "id": "4OJJqMiQldS7"
      },
      "outputs": [],
      "source": [
        "#Load the digits dataset\n",
        "digits = load_digits()\n",
        "\n",
        "#Display the first digit\n",
        "plt.figure(1, figsize=(3, 3))\n",
        "plt.imshow(digits.images[0], cmap=plt.cm.gray_r, interpolation='nearest')\n",
        "plt.show()"
      ]
    },
    {
      "cell_type": "code",
      "execution_count": null,
      "metadata": {
        "id": "uq7buCQhldS7"
      },
      "outputs": [],
      "source": [
        "# load digits zero and one\n",
        "X_digits, y_digits = load_digits(n_class=2, return_X_y=True)\n",
        "Xt = scale(X_digits)\n",
        "N = len(Xt)\n",
        "split = int(0.8*N) # keep 80% for train, 20% for val\n",
        "\n",
        "Xt_train = Xt[0:split,:]\n",
        "Xt_val= Xt[split:,:]"
      ]
    },
    {
      "cell_type": "code",
      "execution_count": null,
      "metadata": {
        "id": "m9Qg4VsuldS7"
      },
      "outputs": [],
      "source": [
        "# use PCA to reduce the data dimension to 2 for plotting\n",
        "reduced_data = PCA(n_components=2).fit_transform(Xt_train)"
      ]
    },
    {
      "cell_type": "markdown",
      "metadata": {
        "id": "5Iw5cX5EldS7"
      },
      "source": [
        "Let's visualize this PCA-reduced data:"
      ]
    },
    {
      "cell_type": "code",
      "execution_count": null,
      "metadata": {
        "id": "-bS8XpkildS7"
      },
      "outputs": [],
      "source": [
        "_ = plot_sample(reduced_data, [])"
      ]
    },
    {
      "cell_type": "markdown",
      "metadata": {
        "id": "Wynf1m7UldS7"
      },
      "source": [
        "Does this data look *clusterable*? How many clusters do we expect? Why does this make sense given the data we loaded above?"
      ]
    },
    {
      "cell_type": "markdown",
      "metadata": {
        "id": "Af3FE-kwldS8"
      },
      "source": [
        "#### <span style='color:cyan'>  Your answer here: </span>"
      ]
    },
    {
      "cell_type": "markdown",
      "metadata": {
        "id": "mFc8UOQFldS8"
      },
      "source": [
        "### ACT 9: K-means on MNIST data\n",
        "Run your k-means clustering code on this data and plot the clusters."
      ]
    },
    {
      "cell_type": "code",
      "execution_count": null,
      "metadata": {
        "id": "7Pfaksd2ldS8"
      },
      "outputs": [],
      "source": [
        "# ACT9: Run k-means on MNIST data with k=2\n",
        "\n",
        "# your code here"
      ]
    },
    {
      "cell_type": "markdown",
      "metadata": {
        "id": "xpFvrZcGldS8"
      },
      "source": [
        "Lets plot some representative samples from this clustering:"
      ]
    },
    {
      "cell_type": "code",
      "execution_count": null,
      "metadata": {
        "id": "3jKmzUF6ldS8"
      },
      "outputs": [],
      "source": [
        "cluster_0 = Xt_train[np.where(assoc==0)]\n",
        "cluster_1 = Xt_train[np.where(assoc==1)]"
      ]
    },
    {
      "cell_type": "code",
      "execution_count": null,
      "metadata": {
        "id": "1Oh3RZuYldS8"
      },
      "outputs": [],
      "source": [
        "fig, axs = plt.subplots(1, 5)\n",
        "fig.set_size_inches(14,14)\n",
        "for i, ax in enumerate(axs):\n",
        "    ax.imshow(cluster_0[i].reshape(8,8), cmap=\"gray\")"
      ]
    },
    {
      "cell_type": "code",
      "execution_count": null,
      "metadata": {
        "id": "_dUIVXWmldS8"
      },
      "outputs": [],
      "source": [
        "fig, axs = plt.subplots(1, 5)\n",
        "fig.set_size_inches(14,14)\n",
        "for i, ax in enumerate(axs):\n",
        "    ax.imshow(cluster_1[i].reshape(8,8), cmap=\"gray\")"
      ]
    },
    {
      "cell_type": "markdown",
      "metadata": {
        "id": "HIFxJIEzldS9"
      },
      "source": [
        "Do the images in each cluster look similar? If the code is working correctly they hopefully should!  \n",
        "Note that the zero-th cluster might not correspond to the digit zero. If you were to use this system for digit classification, you'd manually have to look at some representatives of each cluster before, label them yourself, and then apply those labels to the rest of the data based on which cluster they belong to (this is still a lot more efficient than manually labeling a thousand numbers though)."
      ]
    },
    {
      "cell_type": "markdown",
      "metadata": {
        "id": "omnHPWRfldS9"
      },
      "source": [
        "### ACT 10: More Elbow Curves\n",
        "Copy your code from ACT 8, and plot train and validation loss curves for this MNIST data."
      ]
    },
    {
      "cell_type": "code",
      "execution_count": null,
      "metadata": {
        "id": "eRREwEr_ldS9"
      },
      "outputs": [],
      "source": [
        "# Act10: build elbow curve of train + val losses\n",
        "# Warning, this code should take <= 20-30 seconds to run; if it's taking forever, you probably didn't\n",
        "# vectorize your k-means code correctly (remember, no for loops over the data points)"
      ]
    },
    {
      "cell_type": "markdown",
      "metadata": {
        "id": "d-FmE3MgldS9"
      },
      "source": [
        "Do the loss curves above go down as the number of clusters increase? Despite this, why would it make no sense to pick a large value of K for an application like digit classification?"
      ]
    },
    {
      "cell_type": "markdown",
      "metadata": {
        "id": "FrBjrySwldS9"
      },
      "source": [
        "#### <span style='color:cyan'>  Your answer here: </span>"
      ]
    },
    {
      "cell_type": "markdown",
      "source": [
        "###ACT 11 (Extra Credit): Compare K-means and K-means++\n",
        "\n",
        "In this question, you will compare K-Means and K-Means++ algorithms.\n",
        "\n",
        "We provide the function to initialize centroids for K-means++. Make sure you read through the code and understand how to call this function."
      ],
      "metadata": {
        "id": "wo_lQ12Y4hxA"
      }
    },
    {
      "cell_type": "code",
      "execution_count": null,
      "metadata": {
        "id": "DF1WjhGYldS-"
      },
      "outputs": [],
      "source": [
        "def plus_init(X,k):\n",
        "    '''\n",
        "    Inputs:\n",
        "    X is a 2-D Numpy array of shape (n, d), each row is a data point\n",
        "    k is the number of clusters\n",
        "    Outputs:\n",
        "    C a 2-D Numpy array of shape (k, d) of points at which to initialise centroids for k-means++\n",
        "    '''\n",
        "    n, d = X.shape[0], X.shape[1]\n",
        "    C = np.zeros((k, d), dtype=float)\n",
        "    remain_index = list(range(n))\n",
        "\n",
        "    # random init\n",
        "    zero_init = np.random.randint(n)\n",
        "    C[0] = X[zero_init]\n",
        "    remain_index.remove(zero_init)\n",
        "    for idx in range(1, k):\n",
        "      dx2 = compute_sq_dists(X[remain_index], C[:idx])\n",
        "      dx2 = np.min(dx2, axis=-1)\n",
        "      prob_dx = dx2 / np.sum(dx2)\n",
        "      new_idx = np.random.choice(remain_index, p=prob_dx)\n",
        "      C[idx] = X[new_idx]\n",
        "      remain_index.remove(new_idx)\n",
        "    return C"
      ]
    },
    {
      "cell_type": "markdown",
      "source": [
        "In the function `k_means_plus()`, implement the main iteration loop for K-Means++, alternating between associating data points to their nearest center, and estimating new centers.\n",
        "\n",
        "**Hint**: This should be similar to your `k_means()` function in ACT6."
      ],
      "metadata": {
        "id": "-_nZmQO8KcEV"
      }
    },
    {
      "cell_type": "code",
      "source": [
        "# ACT 11 implement the K-means++ loop\n",
        "# similar to ACT6\n",
        "def k_means_plus(X, k, max_iters=50, eps=1e-5):\n",
        "    '''\n",
        "    Perform k-means++ clusting on X using k clusters, running for max_iters loops,\n",
        "    and stop early if loss decreases by a proportion less than eps.\n",
        "    Early stopping does not occur before epoch 2.\n",
        "\n",
        "    Output (W, loss): the final centers W and loss is a list containing loss values at each iteration\n",
        "    '''\n",
        "    return W, loss"
      ],
      "metadata": {
        "id": "WQAsN2QOKdFR"
      },
      "execution_count": null,
      "outputs": []
    },
    {
      "cell_type": "markdown",
      "source": [
        "Now, run your k-means++ clustering code on MNIST data and plot the clusters.\n",
        "\n",
        "**Hint**: This should be similar to your code implementation in ACT9."
      ],
      "metadata": {
        "id": "cRNdhfTwKqqV"
      }
    },
    {
      "cell_type": "code",
      "source": [
        "# ACT12: Run k-means++ on MNIST data with k=2\n",
        "\n",
        "# your code here"
      ],
      "metadata": {
        "id": "R1xt_AVOKtuj"
      },
      "execution_count": null,
      "outputs": []
    },
    {
      "cell_type": "markdown",
      "source": [
        "Compare following behaviors of the random initialization versus the K-means++ initialization:\n",
        "\n",
        "*   spread of initial cluster centers\n",
        "*   final sum of cluster costs\n",
        "*   number of timesteps it take to converge\n"
      ],
      "metadata": {
        "id": "xXR3FkwsuXdw"
      }
    },
    {
      "cell_type": "markdown",
      "source": [
        "#### <span style='color:cyan'>  Your answer here: </span>\n",
        "\n",
        "\n",
        "*   \n",
        "*   \n",
        "*   \n",
        "\n",
        "\n",
        "\n"
      ],
      "metadata": {
        "id": "Yusx_5EAlU2D"
      }
    },
    {
      "cell_type": "code",
      "source": [],
      "metadata": {
        "id": "l3GoEhtYlXeN"
      },
      "execution_count": null,
      "outputs": []
    }
  ],
  "metadata": {
    "colab": {
      "provenance": []
    },
    "kernelspec": {
      "display_name": "Python 3",
      "language": "python",
      "name": "python3"
    },
    "language_info": {
      "codemirror_mode": {
        "name": "ipython",
        "version": 3
      },
      "file_extension": ".py",
      "mimetype": "text/x-python",
      "name": "python",
      "nbconvert_exporter": "python",
      "pygments_lexer": "ipython3",
      "version": "3.8.8"
    }
  },
  "nbformat": 4,
  "nbformat_minor": 0
}