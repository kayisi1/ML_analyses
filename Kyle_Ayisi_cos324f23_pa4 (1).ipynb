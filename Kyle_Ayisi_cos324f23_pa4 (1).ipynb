{
  "cells": [
    {
      "cell_type": "markdown",
      "metadata": {
        "id": "W69yRiYcGLTG"
      },
      "source": [
        "# Multiclass Classification of Images using CNNs\n",
        "\n",
        "## Programming Assignment 4 (PA4)\n",
        "\n",
        "In PA4, you will classify images of handwritten digits using CNNs. The dataset used is the [MNIST dataset](https://en.wikipedia.org/wiki/MNIST_database).\n",
        "\n",
        "**IMPORTANT**: Use Google CoLab for running your code. This should speed up your training time, which will make everything easier! **THIS NOTEBOOK IS VIEW ONLY. To copy it so you can edit, it, go to `File -> Save a Copy in Drive`**.\n",
        "\n",
        "The notebook is broken into the following sections:\n",
        "1. Loading MNIST (no ACT's)\n",
        "2. Building the CNN\n",
        "3. Building the Trainer\n",
        "4. Training the Network\n",
        "5. Network Accuracy\n",
        "6. Visualizing CNN Layers\n",
        "7. Comparing with a Fully Connected Network\n",
        "**ENABLING GPU**: Simply upload the assignment notebook to your Google Drive, and open it with Google CoLab. Make sure to select GPU in the settings for CoLab. This can be done by going to\n",
        "\n",
        "`runtime->change runtime type->Hardware Accelerator->GPU`\n",
        "\n",
        "### A Note on GPU Runtime\n",
        "For this assignment, we encourage you to use GPU run time for ACT 16 (Training the network) onwards. By using a GPU, the code related to training and evaluating your `ConvNet` network will execute much more quickly.\n",
        "\n",
        "By using a Colab notebook, you have 12 hours of access to a GPU (as mentioned in the Google Colab [FAQ](https://research.google.com/colaboratory/faq.html) section).\n",
        "\n",
        "To conserve as much GPU run time as possible for ACT 16 onwards, we encourage you to complete ACT 1-15 with the `Hardware Accelerator` set to `None`.\n",
        "\n",
        "Before starting ACT 16, we then encourage you to set `Hardware Accelerator` to `GPU`. Then, re-run ACT 1-15 before starting on ACT 16, as changing the `Hardware Accelerator` will reset the notebook runtime.\n",
        "\n",
        "The `Hardware Accelerator` option can be found by clicking the `Edit` tab, then `Notebook settings`.\n",
        "\n",
        "With that said, if you have run out of GPU run time, the assignment can still be completed without it. The following sections will likely take longer to execute (seconds versus seconds).\n",
        "\n",
        "Please budget your GPU run time accordingly, as no extensions or late exceptions will be made due to GPU access issues.\n",
        "\n",
        "\n",
        "### New Python concepts\n",
        "In addition to Python concepts seen so far, this assignment requires the following **new** knowledge:\n",
        "- Classes\n",
        "  - *Stanford CS231n Python Numpy Tutorial*: \"Classes\" section [[link](https://cs231n.github.io/python-numpy-tutorial/#classes)]\n",
        "  - *Harvard CS181 Code Crash Course*: Sec 8.0.4 on \"Defining and Creating Instances of Classes\" [[link](https://harvard-ml-courses.github.io/cs181-web/sections/sec00-codereview/code_crash_course_181.pdf)]\n",
        "\n",
        "If you're new to Python, we recommend you briefly learn the basics of the above before starting the assignment.\n",
        "\n",
        "### General Hints\n",
        "- See precept materials for more details on how to use PyTorch modules.\n",
        "- Read all the code in a cell first and understand its structure before filling in code statements for that cell."
      ]
    },
    {
      "cell_type": "markdown",
      "source": [
        "### Assignment submission\n",
        "\n",
        " This assignment is to be uploaded as both a .ipynb file and a converted .pdf file **via Gradescope**. For help converting the notebook to a .pdf file, see [this document](https://bit.ly/cos324-colab-pdf). You can submit as often as you need, but only the last submission is graded, and submissions made after the deadline may incur a late penalty depending on your remaining free late hours.\n",
        "### Collaboration statement\n",
        "\n",
        "List all collaborators by name, including other students and/or course staff (e.g. TAs, UCAs). If you collaborated with no one on this assignment, write the following: ``\"I did not collaborate with anyone on this assignment.\"``\n",
        "\n",
        "**Alfred Ripoll, Noah Bereketab**"
      ],
      "metadata": {
        "id": "xGAAA1Wp_mfx"
      }
    },
    {
      "cell_type": "code",
      "execution_count": 2,
      "metadata": {
        "id": "glphxcwQjXAg",
        "colab": {
          "base_uri": "https://localhost:8080/"
        },
        "outputId": "0a637fbc-36ac-4c37-e134-7dbb4cd46b46"
      },
      "outputs": [
        {
          "output_type": "stream",
          "name": "stdout",
          "text": [
            "Collecting torchviz\n",
            "  Downloading torchviz-0.0.2.tar.gz (4.9 kB)\n",
            "  Preparing metadata (setup.py) ... \u001b[?25l\u001b[?25hdone\n",
            "Requirement already satisfied: torch in /usr/local/lib/python3.10/dist-packages (from torchviz) (2.1.0+cu118)\n",
            "Requirement already satisfied: graphviz in /usr/local/lib/python3.10/dist-packages (from torchviz) (0.20.1)\n",
            "Requirement already satisfied: filelock in /usr/local/lib/python3.10/dist-packages (from torch->torchviz) (3.13.1)\n",
            "Requirement already satisfied: typing-extensions in /usr/local/lib/python3.10/dist-packages (from torch->torchviz) (4.5.0)\n",
            "Requirement already satisfied: sympy in /usr/local/lib/python3.10/dist-packages (from torch->torchviz) (1.12)\n",
            "Requirement already satisfied: networkx in /usr/local/lib/python3.10/dist-packages (from torch->torchviz) (3.2.1)\n",
            "Requirement already satisfied: jinja2 in /usr/local/lib/python3.10/dist-packages (from torch->torchviz) (3.1.2)\n",
            "Requirement already satisfied: fsspec in /usr/local/lib/python3.10/dist-packages (from torch->torchviz) (2023.6.0)\n",
            "Requirement already satisfied: triton==2.1.0 in /usr/local/lib/python3.10/dist-packages (from torch->torchviz) (2.1.0)\n",
            "Requirement already satisfied: MarkupSafe>=2.0 in /usr/local/lib/python3.10/dist-packages (from jinja2->torch->torchviz) (2.1.3)\n",
            "Requirement already satisfied: mpmath>=0.19 in /usr/local/lib/python3.10/dist-packages (from sympy->torch->torchviz) (1.3.0)\n",
            "Building wheels for collected packages: torchviz\n",
            "  Building wheel for torchviz (setup.py) ... \u001b[?25l\u001b[?25hdone\n",
            "  Created wheel for torchviz: filename=torchviz-0.0.2-py3-none-any.whl size=4133 sha256=1ebe4288c119c38c8c03391b69db22d8efeed600e4e994be880a90a5db4cc819\n",
            "  Stored in directory: /root/.cache/pip/wheels/4c/97/88/a02973217949e0db0c9f4346d154085f4725f99c4f15a87094\n",
            "Successfully built torchviz\n",
            "Installing collected packages: torchviz\n",
            "Successfully installed torchviz-0.0.2\n"
          ]
        }
      ],
      "source": [
        "!pip install torchviz"
      ]
    },
    {
      "cell_type": "code",
      "execution_count": 3,
      "metadata": {
        "id": "xshs2A53AdDw",
        "colab": {
          "base_uri": "https://localhost:8080/"
        },
        "outputId": "474705d5-2c86-4be9-b013-b4fedf6fa907"
      },
      "outputs": [
        {
          "output_type": "stream",
          "name": "stdout",
          "text": [
            "cuda:0\n"
          ]
        }
      ],
      "source": [
        "# Setting some hyperparameters and making sure we have a GPU\n",
        "%matplotlib inline\n",
        "import numpy as np\n",
        "import torch\n",
        "import torch.nn as nn\n",
        "import torchvision\n",
        "import torchvision.transforms as transforms\n",
        "import random\n",
        "import tqdm\n",
        "import os\n",
        "from google.colab import files\n",
        "from torchviz import make_dot\n",
        "\n",
        "# Set the device to use\n",
        "device = torch.device(\"cpu\")\n",
        "\n",
        "# We encourage you to complete ACT 1-15 using a CPU, then switching to GPU upon beginning ACT 16\n",
        "# If you'd like to use a GPU instead of a CPU to run the following code, you can uncomment the following line\n",
        "device = torch.device(\"cuda:0\" if torch.cuda.is_available() else \"cpu\")\n",
        "\n",
        "## Hyperparameters\n",
        "num_epochs = 10\n",
        "num_classes = 10  # there are 10 digits: 0 to 9\n",
        "batch_size = 256\n",
        "\n",
        "## Fixing Random Seed for Reproducibility\n",
        "torch.manual_seed(0)\n",
        "np.random.seed(0)\n",
        "random.seed(0)\n",
        "\n",
        "\n",
        "# This line prints out the type of device you will run the notebook in.\n",
        "print(str(device))"
      ]
    },
    {
      "cell_type": "markdown",
      "metadata": {
        "id": "TdWwTtEFAw1V"
      },
      "source": [
        "### Loading MNIST\n",
        "Here we are loading the MNIST dataset. This dataset consists of 60,000 training images and 10,000 test images.\n",
        "\n",
        "Each image is a 28-by-28 grayscale image, so it is represented by a 28-by-28 array. The labels are 0 to 9, representing digits 0-9."
      ]
    },
    {
      "cell_type": "code",
      "execution_count": 4,
      "metadata": {
        "id": "HWX8PM2c_8j1",
        "colab": {
          "base_uri": "https://localhost:8080/"
        },
        "outputId": "5eb451cf-8280-4a44-e647-d32e326338f8"
      },
      "outputs": [
        {
          "output_type": "stream",
          "name": "stdout",
          "text": [
            "Downloading http://yann.lecun.com/exdb/mnist/train-images-idx3-ubyte.gz\n",
            "Downloading http://yann.lecun.com/exdb/mnist/train-images-idx3-ubyte.gz to ./data/MNIST/raw/train-images-idx3-ubyte.gz\n"
          ]
        },
        {
          "output_type": "stream",
          "name": "stderr",
          "text": [
            "100%|██████████| 9912422/9912422 [00:00<00:00, 80889745.21it/s]\n"
          ]
        },
        {
          "output_type": "stream",
          "name": "stdout",
          "text": [
            "Extracting ./data/MNIST/raw/train-images-idx3-ubyte.gz to ./data/MNIST/raw\n",
            "\n",
            "Downloading http://yann.lecun.com/exdb/mnist/train-labels-idx1-ubyte.gz\n",
            "Downloading http://yann.lecun.com/exdb/mnist/train-labels-idx1-ubyte.gz to ./data/MNIST/raw/train-labels-idx1-ubyte.gz\n"
          ]
        },
        {
          "output_type": "stream",
          "name": "stderr",
          "text": [
            "100%|██████████| 28881/28881 [00:00<00:00, 13629128.47it/s]"
          ]
        },
        {
          "output_type": "stream",
          "name": "stdout",
          "text": [
            "Extracting ./data/MNIST/raw/train-labels-idx1-ubyte.gz to ./data/MNIST/raw\n",
            "\n",
            "Downloading http://yann.lecun.com/exdb/mnist/t10k-images-idx3-ubyte.gz\n",
            "Downloading http://yann.lecun.com/exdb/mnist/t10k-images-idx3-ubyte.gz to ./data/MNIST/raw/t10k-images-idx3-ubyte.gz\n"
          ]
        },
        {
          "output_type": "stream",
          "name": "stderr",
          "text": [
            "\n",
            "100%|██████████| 1648877/1648877 [00:00<00:00, 26252244.90it/s]\n"
          ]
        },
        {
          "output_type": "stream",
          "name": "stdout",
          "text": [
            "Extracting ./data/MNIST/raw/t10k-images-idx3-ubyte.gz to ./data/MNIST/raw\n",
            "\n",
            "Downloading http://yann.lecun.com/exdb/mnist/t10k-labels-idx1-ubyte.gz\n",
            "Downloading http://yann.lecun.com/exdb/mnist/t10k-labels-idx1-ubyte.gz to ./data/MNIST/raw/t10k-labels-idx1-ubyte.gz\n"
          ]
        },
        {
          "output_type": "stream",
          "name": "stderr",
          "text": [
            "100%|██████████| 4542/4542 [00:00<00:00, 4531524.45it/s]\n"
          ]
        },
        {
          "output_type": "stream",
          "name": "stdout",
          "text": [
            "Extracting ./data/MNIST/raw/t10k-labels-idx1-ubyte.gz to ./data/MNIST/raw\n",
            "\n"
          ]
        }
      ],
      "source": [
        "from torch.utils.data import DataLoader\n",
        "\n",
        "# transforms to apply to the data, converting the data to PyTorch tensors and normalizing the data\n",
        "trans = transforms.Compose([transforms.ToTensor(), transforms.Normalize((0.1307,), (0.3081,))])\n",
        "\n",
        "# MNIST dataset\n",
        "train_dataset = torchvision.datasets.MNIST(root=\"./data\", train=True, transform=trans, download=True)\n",
        "test_dataset = torchvision.datasets.MNIST(root=\"./data\", train=False, transform=trans)\n",
        "\n",
        "# train_loader returns batches of training data. See how train_loader is used in the Trainer class later\n",
        "train_loader = DataLoader(dataset=train_dataset, batch_size=batch_size, shuffle=True,num_workers=0)\n",
        "test_loader = DataLoader(dataset=test_dataset, batch_size=batch_size, shuffle=False,num_workers=0)\n",
        "\n",
        "##ASSERTS: checking whether the data is loaded as expected\n",
        "assert(len(train_loader)*batch_size >= 60000)\n",
        "assert(len(test_loader)*batch_size >=10000)"
      ]
    },
    {
      "cell_type": "markdown",
      "metadata": {
        "id": "Gz9EDqAZKpgj"
      },
      "source": [
        "### Building the network\n",
        "Let's build a CNN to classify MNIST images. You will build a CNN with the following architecture:\n",
        "\n",
        "Input:\n",
        "0. The input is a 28-by-28 image with only 1 channel (since it is grayscale)\n",
        "\n",
        "Network:\n",
        "1.   `conv1`: 2D Convolutional Layer with 32 output channels, 5-by-5 kernels, and padding of size 2. `conv1` is followed by activation function RELU\n",
        "2.   `pool1`: Max Pooling with a 2-by-2 kernel and a stride of size 2\n",
        "3.   `conv2`: 2D Convolutional Layer with 64 output channels, 5-by-5 kernels, and padding of size 2. `conv2` is followed by activation function RELU\n",
        "4.   `pool2`: Max Pooling with a 2-by-2 kernel and a stride of size 2\n",
        "5.   `fc1`: Fully Connected Layer with output size 512. `fc11 is followed by RELU activation\n",
        "6.   `fc2`: Fully Connected Layer with output of size 10 (no activation function)\n",
        "\n",
        "ACTS 1-6 require you to fill in the blank code statements with corresponding `nn.Module` in the cell below.\n",
        "\n",
        "**Hint:** See `torch.nn` [documentation](https://pytorch.org/docs/stable/nn.html). An example is given in `self.fc1`.\n",
        "\n",
        "In `forward` method we define the steps of the forward pass, fill in ACT 7-9 with the logic for forward propagation.\n",
        "\n",
        "**Hint:** For forward pass steps with `nn.Module` defined in initialization, use calls like `self.conv1(x)`. For forward pass steps without `nn.Module` defined in initialization (usually parameterless), use calls like `F.relu(x)`.\n",
        "\n",
        "**Hint:** Print out the shape for the final output of `ConvNet`. You may also print out every intermediate shapes of `x` in the forward pass.  "
      ]
    },
    {
      "cell_type": "code",
      "execution_count": 5,
      "metadata": {
        "id": "a_mkRNMGDFSH",
        "colab": {
          "base_uri": "https://localhost:8080/"
        },
        "outputId": "8cd82d17-b901-45c1-e1c2-789546bf75c5"
      },
      "outputs": [
        {
          "output_type": "stream",
          "name": "stdout",
          "text": [
            "torch.Size([100, 32, 14, 14])\n",
            "torch.Size([100, 64, 7, 7])\n",
            "torch.Size([100, 3136])\n",
            "torch.Size([100, 10])\n"
          ]
        }
      ],
      "source": [
        "import torch.nn as nn\n",
        "import torch.nn.functional as F\n",
        "\n",
        "\n",
        "### ACT1-ACT9:\n",
        "### Complete the code below based on the architecture described above\n",
        "class ConvNet(nn.Module):\n",
        "    def __init__(self):\n",
        "        super(ConvNet, self).__init__()\n",
        "        self.conv1 = nn.Conv2d(1, 32, 5, padding=2)\n",
        "        self.pool1 = nn.MaxPool2d(2,stride=2)\n",
        "        self.conv2 = nn.Conv2d(32, 64, 5, padding=2)\n",
        "        self.pool2 = nn.MaxPool2d(2, stride=2)\n",
        "\n",
        "        # ACT5 compute the size of the the input for the first fully connected layer.\n",
        "        # You can track what happens to a 28-by-28 image when passes through the previous layers.\n",
        "        # You will endup with 64 channels, each of size x-by-x,\n",
        "        # therefore the size of input is (64*x*x) - you need to compute x and fill the code below\n",
        "        self.size_linear = (64*7*7)\n",
        "        self.fc1 = nn.Linear(self.size_linear, 512)\n",
        "        self.fc2 = nn.Linear(512, 10)\n",
        "\n",
        "\n",
        "    def forward(self, x):\n",
        "        x = self.pool1(F.relu(self.conv1(x))) # we provide this line for you\n",
        "        print(x.shape)\n",
        "        x = self.pool2(F.relu(self.conv2(x)))\n",
        "        print(x.shape)\n",
        "        x = x.view(-1, self.size_linear)\n",
        "        print(x.shape) # this flattens x into a 1D vector\n",
        "        x = F.relu(self.fc1(x))\n",
        "        x = self.fc2(x)\n",
        "        print(x.shape)\n",
        "        return x\n",
        "\n",
        "##ASSERT: checks if your CNN has the correct output shape\n",
        "with torch.no_grad():  # tells PyTorch not to track gradients here\n",
        "    # test_data is 100 random images, 1 channel, 28-by-28\n",
        "    test_data = torch.rand(100,1,28,28)\n",
        "    test_net = ConvNet()\n",
        "    out = test_net.forward(test_data)\n",
        "    # the output should have size (100,10)\n",
        "    assert(out.size()==(100,10))\n"
      ]
    },
    {
      "cell_type": "markdown",
      "metadata": {
        "id": "ZeigyIeEYl62"
      },
      "source": [
        "### Visualize Your Network\n",
        "\n",
        "**ACT10**\n",
        "\n",
        "Use the `made_dot()` function from `torchvis` to visualize your network. This will build the computation graph/tree that computes `out` based on elements in `params`. Fill in the value for `params`.\n",
        "\n",
        "Check [link](https://github.com/szagoruyko/pytorchviz#usage) or [link](https://github.com/szagoruyko/pytorchviz/blob/master/examples.ipynb) for more details."
      ]
    },
    {
      "cell_type": "code",
      "execution_count": 6,
      "metadata": {
        "id": "_hR_ZGg7-s7Z",
        "colab": {
          "base_uri": "https://localhost:8080/",
          "height": 1000
        },
        "outputId": "5e614e77-a8a0-4c51-f4f8-71d4fdbc0ada"
      },
      "outputs": [
        {
          "output_type": "stream",
          "name": "stdout",
          "text": [
            "torch.Size([100, 32, 14, 14])\n",
            "torch.Size([100, 64, 7, 7])\n",
            "torch.Size([100, 3136])\n",
            "torch.Size([100, 10])\n"
          ]
        },
        {
          "output_type": "execute_result",
          "data": {
            "image/png": "[encoded data removed]",
            "text/plain": [
              "<IPython.core.display.Image object>"
            ]
          },
          "metadata": {},
          "execution_count": 6
        }
      ],
      "source": [
        "from IPython.display import Image\n",
        "\n",
        "test_data = torch.rand(100,1,28,28)\n",
        "test_net = ConvNet()\n",
        "out = test_net.forward(test_data)\n",
        "params= dict(test_net.named_parameters())\n",
        "dot = make_dot(out, params=params)\n",
        "dot.format = \"png\"\n",
        "dot.render(filename=\"network_graph\")\n",
        "Image(filename=\"network_graph.png\")"
      ]
    },
    {
      "cell_type": "markdown",
      "metadata": {
        "id": "tsylgFgaTA-6"
      },
      "source": [
        "### Building the trainer\n",
        "To train our model, we'll build a Trainer class that holds our network and data. When we call\n",
        "\n",
        "```\n",
        "trainer.train(epochs)\n",
        "```\n",
        "The Trainer trains over all the data for *epochs* times. It iterates over batches of data from the train_loader, passes it through the network, computes the loss and the gradients and lets the optimizer (SGD in this case) update the parameters.\n",
        "\n",
        "Look at the cell below to see how we instantiate a trainer, and complete the Trainer code via the ACT's.\n",
        "\n",
        "**Hints:**\n",
        "- See `torch.optim` [documentation](https://pytorch.org/docs/stable/optim.html).\n",
        "- Scroll to the next code cell to see what `loss_function` is set to and look at [documentation](https://pytorch.org/docs/stable/nn.html#loss-functions) for it.\n",
        "- Each Act requires only only one line of code."
      ]
    },
    {
      "cell_type": "code",
      "execution_count": 7,
      "metadata": {
        "id": "-6WDlxjvGPL9"
      },
      "outputs": [],
      "source": [
        "### ACT11-ACT15 Please fill the code below\n",
        "class Trainer():\n",
        "    def __init__(self,net=None,optim=None,loss_function=None, train_loader=None):\n",
        "        self.net = net\n",
        "        self.optim = optim\n",
        "        self.loss_function = loss_function\n",
        "        self.train_loader = train_loader\n",
        "\n",
        "    def train(self,epochs):\n",
        "        losses = []\n",
        "        for epoch in range(epochs):\n",
        "            epoch_loss = 0.0\n",
        "            epoch_steps = 0\n",
        "            for data in tqdm.tqdm(self.train_loader):\n",
        "\n",
        "                # Moving this batch to GPU\n",
        "                # Note that X has shape (batch_size, number of channels, height, width)\n",
        "                # which is equal to (256,1,28,28) since our default batch_size = 256 and\n",
        "                # the image has only 1 channel\n",
        "                X = data[0].to(device)\n",
        "                y = data[1].to(device)\n",
        "\n",
        "\n",
        "                # ACT11-Set the gradient to zero in the optimizer i.e. self.optim\n",
        "                ################\n",
        "                self.optim.zero_grad()\n",
        "                ################\n",
        "\n",
        "                # ACT12-Getting the output of the Network\n",
        "                ################\n",
        "                network_output = self.net(X)\n",
        "                ################\n",
        "\n",
        "                # ACT13-Computing loss using loss function i.e. self.loss_function\n",
        "                ################\n",
        "                loss = self.loss_function(network_output, y)\n",
        "                ################\n",
        "\n",
        "                # ACT14-Backpropagate to compute gradients of parameteres\n",
        "                ################\n",
        "                loss.backward()\n",
        "                ################\n",
        "\n",
        "                # ACT15-Call the optimizer i.e. self.optim\n",
        "                ################\n",
        "                self.optim.step()\n",
        "                ################\n",
        "\n",
        "                epoch_loss += loss.item()\n",
        "                epoch_steps += 1\n",
        "            # average loss of epoch\n",
        "            losses.append(epoch_loss / epoch_steps)\n",
        "            print(\"epoch [%d]: loss %.3f\" % (epoch+1, losses[-1]))\n",
        "        return losses"
      ]
    },
    {
      "cell_type": "markdown",
      "metadata": {
        "id": "jVkDdKlYb_Md"
      },
      "source": [
        "### Training the network\n",
        "Let's find the right learning rate. Test out training using various learning rates (you'll want to reinitialize the network each time you choose a new learning rate).\n",
        "\n",
        "Your task is to find a learning rate that results in less than 0.03 loss after 10 epochs of training. When submitting the notebook, submit it with that learning rate value filled in for ACT16.\n",
        "\n",
        "**NOTE**: At this point, if you have been running the notebook using `CPU` (i.e. with `Hardware Accelerator` set to `None`), we now encourage you to change the setting to `GPU` and re-run the notebook up to this point. Going forwards, your code will execute much more quickly if a GPU is enabled."
      ]
    },
    {
      "cell_type": "code",
      "execution_count": null,
      "metadata": {
        "id": "vC6nDWj-VABE",
        "scrolled": true
      },
      "outputs": [],
      "source": [
        "import torch.optim as optim\n",
        "\n",
        "### ACT16 try different learning rates for SGD to see which one works (do not try learning rates greater than 1)\n",
        "### For example, try rates that are 1/5, 1/2, 1*, 2*, 5* your initial guess.\n",
        "### number of epochs is fixed at 10, do not change it\n",
        "### we want the last epoch loss to be less than 0.03\n",
        "learning_rate = 0.06\n",
        "\n",
        "net = ConvNet()\n",
        "net = net.to(device)\n",
        "opt = optim.SGD(net.parameters(), lr=learning_rate, momentum=0.9)\n",
        "loss_function = nn.CrossEntropyLoss()\n",
        "\n",
        "trainer = Trainer(net=net, optim=opt, loss_function=loss_function, train_loader=train_loader)\n",
        "\n",
        "losses = trainer.train(num_epochs)\n",
        "###ASSERTS\n",
        "assert(losses[-1] < 0.03)\n",
        "assert(len(losses)==num_epochs)  # because you record the loss after each epoch"
      ]
    },
    {
      "cell_type": "code",
      "execution_count": 27,
      "metadata": {
        "id": "oVc4_MpfcyJT",
        "colab": {
          "base_uri": "https://localhost:8080/",
          "height": 489
        },
        "outputId": "d9d5de5a-ecd7-45f8-cfb4-8c768bfb3634"
      },
      "outputs": [
        {
          "output_type": "execute_result",
          "data": {
            "text/plain": [
              "Text(0.5, 1.0, 'Epoch training loss')"
            ]
          },
          "metadata": {},
          "execution_count": 27
        },
        {
          "output_type": "display_data",
          "data": {
            "text/plain": [
              "<Figure size 640x480 with 1 Axes>"
            ],
            "image/png": "[encoded data removed]"
          },
          "metadata": {}
        }
      ],
      "source": [
        "import matplotlib.pyplot as plt\n",
        "### ACT17 plot the training loss (y-axis) vs epoch number (x-axis)\n",
        "### using the losses you computed in previous step\n",
        "### ACT17 ######\n",
        "plt.plot(range(num_epochs), losses, marker='o')\n",
        "plt.xlabel('Epoch number')\n",
        "plt.ylabel('Training Loss')\n",
        "plt.title('Epoch training loss')\n",
        "################"
      ]
    },
    {
      "cell_type": "code",
      "source": [
        "### Trying to save model weights locally, you may skip if you don't want a copy\n",
        "torch.save(net.state_dict(), 'model.pth')\n",
        "files.download('model.pth')"
      ],
      "metadata": {
        "id": "P-X5w2Yw5l6E",
        "colab": {
          "base_uri": "https://localhost:8080/",
          "height": 17
        },
        "outputId": "50cb313c-fa18-472b-c8cb-647866701df5"
      },
      "execution_count": 14,
      "outputs": [
        {
          "output_type": "display_data",
          "data": {
            "text/plain": [
              "<IPython.core.display.Javascript object>"
            ],
            "application/javascript": [
              "\n",
              "    async function download(id, filename, size) {\n",
              "      if (!google.colab.kernel.accessAllowed) {\n",
              "        return;\n",
              "      }\n",
              "      const div = document.createElement('div');\n",
              "      const label = document.createElement('label');\n",
              "      label.textContent = `Downloading \"${filename}\": `;\n",
              "      div.appendChild(label);\n",
              "      const progress = document.createElement('progress');\n",
              "      progress.max = size;\n",
              "      div.appendChild(progress);\n",
              "      document.body.appendChild(div);\n",
              "\n",
              "      const buffers = [];\n",
              "      let downloaded = 0;\n",
              "\n",
              "      const channel = await google.colab.kernel.comms.open(id);\n",
              "      // Send a message to notify the kernel that we're ready.\n",
              "      channel.send({})\n",
              "\n",
              "      for await (const message of channel.messages) {\n",
              "        // Send a message to notify the kernel that we're ready.\n",
              "        channel.send({})\n",
              "        if (message.buffers) {\n",
              "          for (const buffer of message.buffers) {\n",
              "            buffers.push(buffer);\n",
              "            downloaded += buffer.byteLength;\n",
              "            progress.value = downloaded;\n",
              "          }\n",
              "        }\n",
              "      }\n",
              "      const blob = new Blob(buffers, {type: 'application/binary'});\n",
              "      const a = document.createElement('a');\n",
              "      a.href = window.URL.createObjectURL(blob);\n",
              "      a.download = filename;\n",
              "      div.appendChild(a);\n",
              "      a.click();\n",
              "      div.remove();\n",
              "    }\n",
              "  "
            ]
          },
          "metadata": {}
        },
        {
          "output_type": "display_data",
          "data": {
            "text/plain": [
              "<IPython.core.display.Javascript object>"
            ],
            "application/javascript": [
              "download(\"download_4a48d98c-2782-446a-aad4-63113578640a\", \"model.pth\", 6656232)"
            ]
          },
          "metadata": {}
        }
      ]
    },
    {
      "cell_type": "code",
      "source": [
        "## Load the local model. If you don't have one, cancel upload and we will download staff pretrained weights. You may skip if you don't want a copy.\n",
        "upload = files.upload()\n",
        "if len(upload) == 0:\n",
        "  if not os.path.exists('pa4'):\n",
        "    !git clone https://github.com/princeton-cos324/pa4.git\n",
        "  !cp pa4/model.pth .\n",
        "net.load_state_dict(torch.load('model.pth'))"
      ],
      "metadata": {
        "id": "bzg45x735xov",
        "colab": {
          "base_uri": "https://localhost:8080/",
          "height": 160
        },
        "outputId": "4a6ea2bb-42ea-4736-a42a-292e1eb61be6"
      },
      "execution_count": 15,
      "outputs": [
        {
          "output_type": "display_data",
          "data": {
            "text/plain": [
              "<IPython.core.display.HTML object>"
            ],
            "text/html": [
              "\n",
              "     <input type=\"file\" id=\"files-e132d134-4964-4fbd-b482-fdda0206fe35\" name=\"files[]\" multiple disabled\n",
              "        style=\"border:none\" />\n",
              "     <output id=\"result-e132d134-4964-4fbd-b482-fdda0206fe35\">\n",
              "      Upload widget is only available when the cell has been executed in the\n",
              "      current browser session. Please rerun this cell to enable.\n",
              "      </output>\n",
              "      <script>// Copyright 2017 Google LLC\n",
              "//\n",
              "// Licensed under the Apache License, Version 2.0 (the \"License\");\n",
              "// you may not use this file except in compliance with the License.\n",
              "// You may obtain a copy of the License at\n",
              "//\n",
              "//      http://www.apache.org/licenses/LICENSE-2.0\n",
              "//\n",
              "// Unless required by applicable law or agreed to in writing, software\n",
              "// distributed under the License is distributed on an \"AS IS\" BASIS,\n",
              "// WITHOUT WARRANTIES OR CONDITIONS OF ANY KIND, either express or implied.\n",
              "// See the License for the specific language governing permissions and\n",
              "// limitations under the License.\n",
              "\n",
              "/**\n",
              " * @fileoverview Helpers for google.colab Python module.\n",
              " */\n",
              "(function(scope) {\n",
              "function span(text, styleAttributes = {}) {\n",
              "  const element = document.createElement('span');\n",
              "  element.textContent = text;\n",
              "  for (const key of Object.keys(styleAttributes)) {\n",
              "    element.style[key] = styleAttributes[key];\n",
              "  }\n",
              "  return element;\n",
              "}\n",
              "\n",
              "// Max number of bytes which will be uploaded at a time.\n",
              "const MAX_PAYLOAD_SIZE = 100 * 1024;\n",
              "\n",
              "function _uploadFiles(inputId, outputId) {\n",
              "  const steps = uploadFilesStep(inputId, outputId);\n",
              "  const outputElement = document.getElementById(outputId);\n",
              "  // Cache steps on the outputElement to make it available for the next call\n",
              "  // to uploadFilesContinue from Python.\n",
              "  outputElement.steps = steps;\n",
              "\n",
              "  return _uploadFilesContinue(outputId);\n",
              "}\n",
              "\n",
              "// This is roughly an async generator (not supported in the browser yet),\n",
              "// where there are multiple asynchronous steps and the Python side is going\n",
              "// to poll for completion of each step.\n",
              "// This uses a Promise to block the python side on completion of each step,\n",
              "// then passes the result of the previous step as the input to the next step.\n",
              "function _uploadFilesContinue(outputId) {\n",
              "  const outputElement = document.getElementById(outputId);\n",
              "  const steps = outputElement.steps;\n",
              "\n",
              "  const next = steps.next(outputElement.lastPromiseValue);\n",
              "  return Promise.resolve(next.value.promise).then((value) => {\n",
              "    // Cache the last promise value to make it available to the next\n",
              "    // step of the generator.\n",
              "    outputElement.lastPromiseValue = value;\n",
              "    return next.value.response;\n",
              "  });\n",
              "}\n",
              "\n",
              "/**\n",
              " * Generator function which is called between each async step of the upload\n",
              " * process.\n",
              " * @param {string} inputId Element ID of the input file picker element.\n",
              " * @param {string} outputId Element ID of the output display.\n",
              " * @return {!Iterable<!Object>} Iterable of next steps.\n",
              " */\n",
              "function* uploadFilesStep(inputId, outputId) {\n",
              "  const inputElement = document.getElementById(inputId);\n",
              "  inputElement.disabled = false;\n",
              "\n",
              "  const outputElement = document.getElementById(outputId);\n",
              "  outputElement.innerHTML = '';\n",
              "\n",
              "  const pickedPromise = new Promise((resolve) => {\n",
              "    inputElement.addEventListener('change', (e) => {\n",
              "      resolve(e.target.files);\n",
              "    });\n",
              "  });\n",
              "\n",
              "  const cancel = document.createElement('button');\n",
              "  inputElement.parentElement.appendChild(cancel);\n",
              "  cancel.textContent = 'Cancel upload';\n",
              "  const cancelPromise = new Promise((resolve) => {\n",
              "    cancel.onclick = () => {\n",
              "      resolve(null);\n",
              "    };\n",
              "  });\n",
              "\n",
              "  // Wait for the user to pick the files.\n",
              "  const files = yield {\n",
              "    promise: Promise.race([pickedPromise, cancelPromise]),\n",
              "    response: {\n",
              "      action: 'starting',\n",
              "    }\n",
              "  };\n",
              "\n",
              "  cancel.remove();\n",
              "\n",
              "  // Disable the input element since further picks are not allowed.\n",
              "  inputElement.disabled = true;\n",
              "\n",
              "  if (!files) {\n",
              "    return {\n",
              "      response: {\n",
              "        action: 'complete',\n",
              "      }\n",
              "    };\n",
              "  }\n",
              "\n",
              "  for (const file of files) {\n",
              "    const li = document.createElement('li');\n",
              "    li.append(span(file.name, {fontWeight: 'bold'}));\n",
              "    li.append(span(\n",
              "        `(${file.type || 'n/a'}) - ${file.size} bytes, ` +\n",
              "        `last modified: ${\n",
              "            file.lastModifiedDate ? file.lastModifiedDate.toLocaleDateString() :\n",
              "                                    'n/a'} - `));\n",
              "    const percent = span('0% done');\n",
              "    li.appendChild(percent);\n",
              "\n",
              "    outputElement.appendChild(li);\n",
              "\n",
              "    const fileDataPromise = new Promise((resolve) => {\n",
              "      const reader = new FileReader();\n",
              "      reader.onload = (e) => {\n",
              "        resolve(e.target.result);\n",
              "      };\n",
              "      reader.readAsArrayBuffer(file);\n",
              "    });\n",
              "    // Wait for the data to be ready.\n",
              "    let fileData = yield {\n",
              "      promise: fileDataPromise,\n",
              "      response: {\n",
              "        action: 'continue',\n",
              "      }\n",
              "    };\n",
              "\n",
              "    // Use a chunked sending to avoid message size limits. See b/62115660.\n",
              "    let position = 0;\n",
              "    do {\n",
              "      const length = Math.min(fileData.byteLength - position, MAX_PAYLOAD_SIZE);\n",
              "      const chunk = new Uint8Array(fileData, position, length);\n",
              "      position += length;\n",
              "\n",
              "      const base64 = btoa(String.fromCharCode.apply(null, chunk));\n",
              "      yield {\n",
              "        response: {\n",
              "          action: 'append',\n",
              "          file: file.name,\n",
              "          data: base64,\n",
              "        },\n",
              "      };\n",
              "\n",
              "      let percentDone = fileData.byteLength === 0 ?\n",
              "          100 :\n",
              "          Math.round((position / fileData.byteLength) * 100);\n",
              "      percent.textContent = `${percentDone}% done`;\n",
              "\n",
              "    } while (position < fileData.byteLength);\n",
              "  }\n",
              "\n",
              "  // All done.\n",
              "  yield {\n",
              "    response: {\n",
              "      action: 'complete',\n",
              "    }\n",
              "  };\n",
              "}\n",
              "\n",
              "scope.google = scope.google || {};\n",
              "scope.google.colab = scope.google.colab || {};\n",
              "scope.google.colab._files = {\n",
              "  _uploadFiles,\n",
              "  _uploadFilesContinue,\n",
              "};\n",
              "})(self);\n",
              "</script> "
            ]
          },
          "metadata": {}
        },
        {
          "output_type": "stream",
          "name": "stdout",
          "text": [
            "Cloning into 'pa4'...\n",
            "remote: Enumerating objects: 6, done.\u001b[K\n",
            "remote: Counting objects: 100% (6/6), done.\u001b[K\n",
            "remote: Compressing objects: 100% (4/4), done.\u001b[K\n",
            "remote: Total 6 (delta 0), reused 6 (delta 0), pack-reused 0\u001b[K\n",
            "Receiving objects: 100% (6/6), 17.03 MiB | 28.58 MiB/s, done.\n"
          ]
        },
        {
          "output_type": "execute_result",
          "data": {
            "text/plain": [
              "<All keys matched successfully>"
            ]
          },
          "metadata": {},
          "execution_count": 15
        }
      ]
    },
    {
      "cell_type": "markdown",
      "metadata": {
        "id": "YyUi3-iUcUbW"
      },
      "source": [
        "### Accuracy of our network on test data\n",
        "In this cell you will compute the accuracy of your network on the test data. If your CNN is working correctly, you should get accuracy of >98% on the test data."
      ]
    },
    {
      "cell_type": "code",
      "execution_count": 29,
      "metadata": {
        "id": "YbrvAYDybUAT",
        "colab": {
          "base_uri": "https://localhost:8080/"
        },
        "outputId": "73041091-38ea-4ab1-a939-865b9b486466"
      },
      "outputs": [
        {
          "output_type": "stream",
          "name": "stderr",
          "text": [
            " 10%|█         | 4/40 [00:00<00:02, 17.13it/s]"
          ]
        },
        {
          "output_type": "stream",
          "name": "stdout",
          "text": [
            "torch.Size([256, 32, 14, 14])\n",
            "torch.Size([256, 64, 7, 7])\n",
            "torch.Size([256, 3136])\n",
            "torch.Size([256, 10])\n",
            "torch.Size([256, 32, 14, 14])\n",
            "torch.Size([256, 64, 7, 7])\n",
            "torch.Size([256, 3136])\n",
            "torch.Size([256, 10])\n",
            "torch.Size([256, 32, 14, 14])\n",
            "torch.Size([256, 64, 7, 7])\n",
            "torch.Size([256, 3136])\n",
            "torch.Size([256, 10])\n",
            "torch.Size([256, 32, 14, 14])\n",
            "torch.Size([256, 64, 7, 7])\n",
            "torch.Size([256, 3136])\n",
            "torch.Size([256, 10])\n"
          ]
        },
        {
          "output_type": "stream",
          "name": "stderr",
          "text": [
            " 20%|██        | 8/40 [00:00<00:01, 17.95it/s]"
          ]
        },
        {
          "output_type": "stream",
          "name": "stdout",
          "text": [
            "torch.Size([256, 32, 14, 14])\n",
            "torch.Size([256, 64, 7, 7])\n",
            "torch.Size([256, 3136])\n",
            "torch.Size([256, 10])\n",
            "torch.Size([256, 32, 14, 14])\n",
            "torch.Size([256, 64, 7, 7])\n",
            "torch.Size([256, 3136])\n",
            "torch.Size([256, 10])\n",
            "torch.Size([256, 32, 14, 14])\n",
            "torch.Size([256, 64, 7, 7])\n",
            "torch.Size([256, 3136])\n",
            "torch.Size([256, 10])\n",
            "torch.Size([256, 32, 14, 14])\n",
            "torch.Size([256, 64, 7, 7])\n",
            "torch.Size([256, 3136])\n",
            "torch.Size([256, 10])\n"
          ]
        },
        {
          "output_type": "stream",
          "name": "stderr",
          "text": [
            " 30%|███       | 12/40 [00:00<00:01, 18.54it/s]"
          ]
        },
        {
          "output_type": "stream",
          "name": "stdout",
          "text": [
            "torch.Size([256, 32, 14, 14])\n",
            "torch.Size([256, 64, 7, 7])\n",
            "torch.Size([256, 3136])\n",
            "torch.Size([256, 10])\n",
            "torch.Size([256, 32, 14, 14])\n",
            "torch.Size([256, 64, 7, 7])\n",
            "torch.Size([256, 3136])\n",
            "torch.Size([256, 10])\n",
            "torch.Size([256, 32, 14, 14])\n",
            "torch.Size([256, 64, 7, 7])\n",
            "torch.Size([256, 3136])\n",
            "torch.Size([256, 10])\n",
            "torch.Size([256, 32, 14, 14])\n",
            "torch.Size([256, 64, 7, 7])\n",
            "torch.Size([256, 3136])\n",
            "torch.Size([256, 10])\n"
          ]
        },
        {
          "output_type": "stream",
          "name": "stderr",
          "text": [
            " 40%|████      | 16/40 [00:00<00:01, 17.86it/s]"
          ]
        },
        {
          "output_type": "stream",
          "name": "stdout",
          "text": [
            "torch.Size([256, 32, 14, 14])\n",
            "torch.Size([256, 64, 7, 7])\n",
            "torch.Size([256, 3136])\n",
            "torch.Size([256, 10])\n",
            "torch.Size([256, 32, 14, 14])\n",
            "torch.Size([256, 64, 7, 7])\n",
            "torch.Size([256, 3136])\n",
            "torch.Size([256, 10])\n",
            "torch.Size([256, 32, 14, 14])\n",
            "torch.Size([256, 64, 7, 7])\n",
            "torch.Size([256, 3136])\n",
            "torch.Size([256, 10])\n",
            "torch.Size([256, 32, 14, 14])\n",
            "torch.Size([256, 64, 7, 7])\n",
            "torch.Size([256, 3136])\n",
            "torch.Size([256, 10])\n"
          ]
        },
        {
          "output_type": "stream",
          "name": "stderr",
          "text": [
            " 50%|█████     | 20/40 [00:01<00:01, 17.93it/s]"
          ]
        },
        {
          "output_type": "stream",
          "name": "stdout",
          "text": [
            "torch.Size([256, 32, 14, 14])\n",
            "torch.Size([256, 64, 7, 7])\n",
            "torch.Size([256, 3136])\n",
            "torch.Size([256, 10])\n",
            "torch.Size([256, 32, 14, 14])\n",
            "torch.Size([256, 64, 7, 7])\n",
            "torch.Size([256, 3136])\n",
            "torch.Size([256, 10])\n",
            "torch.Size([256, 32, 14, 14])\n",
            "torch.Size([256, 64, 7, 7])\n",
            "torch.Size([256, 3136])\n",
            "torch.Size([256, 10])\n",
            "torch.Size([256, 32, 14, 14])\n",
            "torch.Size([256, 64, 7, 7])\n",
            "torch.Size([256, 3136])\n",
            "torch.Size([256, 10])\n"
          ]
        },
        {
          "output_type": "stream",
          "name": "stderr",
          "text": [
            " 60%|██████    | 24/40 [00:01<00:00, 17.64it/s]"
          ]
        },
        {
          "output_type": "stream",
          "name": "stdout",
          "text": [
            "torch.Size([256, 32, 14, 14])\n",
            "torch.Size([256, 64, 7, 7])\n",
            "torch.Size([256, 3136])\n",
            "torch.Size([256, 10])\n",
            "torch.Size([256, 32, 14, 14])\n",
            "torch.Size([256, 64, 7, 7])\n",
            "torch.Size([256, 3136])\n",
            "torch.Size([256, 10])\n",
            "torch.Size([256, 32, 14, 14])\n",
            "torch.Size([256, 64, 7, 7])\n",
            "torch.Size([256, 3136])\n",
            "torch.Size([256, 10])\n",
            "torch.Size([256, 32, 14, 14])\n",
            "torch.Size([256, 64, 7, 7])\n",
            "torch.Size([256, 3136])\n",
            "torch.Size([256, 10])\n"
          ]
        },
        {
          "output_type": "stream",
          "name": "stderr",
          "text": [
            "\r 65%|██████▌   | 26/40 [00:01<00:00, 17.83it/s]"
          ]
        },
        {
          "output_type": "stream",
          "name": "stdout",
          "text": [
            "torch.Size([256, 32, 14, 14])\n",
            "torch.Size([256, 64, 7, 7])\n",
            "torch.Size([256, 3136])\n",
            "torch.Size([256, 10])\n",
            "torch.Size([256, 32, 14, 14])\n",
            "torch.Size([256, 64, 7, 7])\n",
            "torch.Size([256, 3136])\n",
            "torch.Size([256, 10])\n",
            "torch.Size([256, 32, 14, 14])\n",
            "torch.Size([256, 64, 7, 7])\n",
            "torch.Size([256, 3136])\n",
            "torch.Size([256, 10])\n",
            "torch.Size([256, 32, 14, 14])\n",
            "torch.Size([256, 64, 7, 7])\n",
            "torch.Size([256, 3136])\n",
            "torch.Size([256, 10])\n",
            "torch.Size([256, 32, 14, 14])\n",
            "torch.Size([256, 64, 7, 7])\n",
            "torch.Size([256, 3136])\n",
            "torch.Size([256, 10])\n"
          ]
        },
        {
          "output_type": "stream",
          "name": "stderr",
          "text": [
            " 82%|████████▎ | 33/40 [00:01<00:00, 18.33it/s]"
          ]
        },
        {
          "output_type": "stream",
          "name": "stdout",
          "text": [
            "torch.Size([256, 32, 14, 14])\n",
            "torch.Size([256, 64, 7, 7])\n",
            "torch.Size([256, 3136])\n",
            "torch.Size([256, 10])\n",
            "torch.Size([256, 32, 14, 14])\n",
            "torch.Size([256, 64, 7, 7])\n",
            "torch.Size([256, 3136])\n",
            "torch.Size([256, 10])\n",
            "torch.Size([256, 32, 14, 14])\n",
            "torch.Size([256, 64, 7, 7])\n",
            "torch.Size([256, 3136])\n",
            "torch.Size([256, 10])\n",
            "torch.Size([256, 32, 14, 14])\n",
            "torch.Size([256, 64, 7, 7])\n",
            "torch.Size([256, 3136])\n",
            "torch.Size([256, 10])\n"
          ]
        },
        {
          "output_type": "stream",
          "name": "stderr",
          "text": [
            "\r 88%|████████▊ | 35/40 [00:01<00:00, 15.99it/s]"
          ]
        },
        {
          "output_type": "stream",
          "name": "stdout",
          "text": [
            "torch.Size([256, 32, 14, 14])\n",
            "torch.Size([256, 64, 7, 7])\n",
            "torch.Size([256, 3136])\n",
            "torch.Size([256, 10])\n",
            "torch.Size([256, 32, 14, 14])\n",
            "torch.Size([256, 64, 7, 7])\n",
            "torch.Size([256, 3136])\n",
            "torch.Size([256, 10])\n",
            "torch.Size([256, 32, 14, 14])\n",
            "torch.Size([256, 64, 7, 7])\n",
            "torch.Size([256, 3136])\n",
            "torch.Size([256, 10])\n"
          ]
        },
        {
          "output_type": "stream",
          "name": "stderr",
          "text": [
            " 98%|█████████▊| 39/40 [00:02<00:00, 13.18it/s]"
          ]
        },
        {
          "output_type": "stream",
          "name": "stdout",
          "text": [
            "torch.Size([256, 32, 14, 14])\n",
            "torch.Size([256, 64, 7, 7])\n",
            "torch.Size([256, 3136])\n",
            "torch.Size([256, 10])\n",
            "torch.Size([256, 32, 14, 14])\n",
            "torch.Size([256, 64, 7, 7])\n",
            "torch.Size([256, 3136])\n",
            "torch.Size([256, 10])\n",
            "torch.Size([256, 32, 14, 14])\n",
            "torch.Size([256, 64, 7, 7])\n",
            "torch.Size([256, 3136])\n",
            "torch.Size([256, 10])\n"
          ]
        },
        {
          "output_type": "stream",
          "name": "stderr",
          "text": [
            "\r100%|██████████| 40/40 [00:02<00:00, 16.89it/s]"
          ]
        },
        {
          "output_type": "stream",
          "name": "stdout",
          "text": [
            "torch.Size([16, 32, 14, 14])\n",
            "torch.Size([16, 64, 7, 7])\n",
            "torch.Size([16, 3136])\n",
            "torch.Size([16, 10])\n",
            "Accuracy of prediction on test digits: 99.15%\n"
          ]
        },
        {
          "output_type": "stream",
          "name": "stderr",
          "text": [
            "\n"
          ]
        }
      ],
      "source": [
        "err = 0\n",
        "tot = 0\n",
        "with torch.no_grad():\n",
        "    for data in tqdm.tqdm(test_loader):\n",
        "        # ACT18: retrieve X and y for this batch, from data, and\n",
        "        #   move it to the device you are using (probably the GPU)\n",
        "        #   (hint: look at what we did in trainer)\n",
        "        X = data[0].to(device)\n",
        "        y = data[1].to(device)\n",
        "\n",
        "\n",
        "        # raw output of network for X\n",
        "        output = net(X)\n",
        "\n",
        "        # let the maximum index be our predicted class\n",
        "        _, yh = torch.max(output, 1)\n",
        "\n",
        "        # tot will 10,000 at the end, total number of test data\n",
        "        tot += y.size(0)\n",
        "\n",
        "        ## ACT19 add to err number of missclassification, i.e. number of indices that\n",
        "        ## yh and y are not equal\n",
        "        ## note that y and yh are vectors of size = batch_size = (256 in our case)\n",
        "        err += sum(yh != y)\n",
        "\n",
        "print('Accuracy of prediction on test digits: %5.2f%%' % (100-100 * err / tot))\n",
        "\n",
        "###ASSERTS\n",
        "assert((100-100 * err / tot)>=98)\n",
        "assert(tot==10*1000)"
      ]
    },
    {
      "cell_type": "markdown",
      "metadata": {
        "id": "NHnVXuUAve3E"
      },
      "source": [
        "### Inspecting Model Errors\n",
        "**ACT 20**\n",
        "\n",
        "**Briefly describe what you observe when the model makes incorrect predictions. Is the model making obvious mistakes? Or is the data also tricky?**\n",
        "\n",
        "**Incorrect predictions could come from many things, but in this case the latter seems to be the case - the incorrect predictions are difficult to make out and tricky to classify.**\n"
      ]
    },
    {
      "cell_type": "code",
      "execution_count": 19,
      "metadata": {
        "id": "c0KGjscQqeKL"
      },
      "outputs": [],
      "source": [
        "import numpy as np\n",
        "import matplotlib.pyplot as plt\n",
        "\n",
        "### function for normalizing a 2d image (input type = numpy 2d array)\n",
        "def normalize_image(npimg):\n",
        "    npimg = (npimg - np.mean(npimg)) / np.std(npimg)\n",
        "    npimg = np.minimum(1, np.maximum(0, (npimg + 0.5)))\n",
        "    return npimg"
      ]
    },
    {
      "cell_type": "code",
      "execution_count": null,
      "metadata": {
        "id": "ZYQeX4V7lcMp"
      },
      "outputs": [],
      "source": [
        "num_to_check = 3 # inspect 3 examples\n",
        "num_checked = 0\n",
        "test_loader_for_error_analysis = DataLoader(dataset=test_dataset, batch_size=1, shuffle=False, num_workers=0)\n",
        "net.eval()\n",
        "with torch.no_grad():\n",
        "    for data in tqdm.tqdm(test_loader_for_error_analysis):\n",
        "        # ACT18 retrieve X and y for this batch from data and\n",
        "        # move it to GPU (hint: look at what we did in trainer)\n",
        "        X = data[0].to(device)\n",
        "        y = data[1].to(device)\n",
        "\n",
        "        # raw output of network for X\n",
        "        output = net(X)\n",
        "\n",
        "        # let the maximum index be our predicted class\n",
        "        _, yh = torch.max(output, 1)\n",
        "\n",
        "        # check incorrect prediction\n",
        "        if yh.item() != y.item():\n",
        "            plt.figure()\n",
        "            npimg = X[0][0].to('cpu').numpy()\n",
        "            npimg = normalize_image(npimg)\n",
        "            plt.imshow(npimg,cmap=\"gray\",vmin=0,vmax=1)\n",
        "            plt.title(\"model predicted digit %d\" % yh.item())\n",
        "            plt.axis(\"off\")\n",
        "            num_checked += 1\n",
        "            if num_checked == num_to_check:\n",
        "                break"
      ]
    },
    {
      "cell_type": "markdown",
      "metadata": {
        "id": "Py6Udla5csm2"
      },
      "source": [
        "### Visualize CNN layers\n",
        "Now you will visualize some internal values in the CNN. You will visualize the filters in the CNN and the result of applying those CNN filters to input images."
      ]
    },
    {
      "cell_type": "markdown",
      "metadata": {
        "id": "Tz2zL6WRcyhM"
      },
      "source": [
        "#### Visualize each filter separately in the first layer\n",
        "\n",
        "* Our first layer was a 2d convolutional layer with 32 output channels and 5-by-5 kernel\n",
        "* Therefore we have 32 different learnt filters. Each has size (1,5,5), so, each filter is a 5-by-5 array of weights\n",
        "* Let's look at each filter as a 5-by-5 grayscale image and plot it\n",
        "\n",
        "After running this cell, answer the following question:\n",
        "\n",
        "\n",
        "**ACT21:**\n",
        "Note we decided to fill in the code for you for `npimg`. However, make sure to understand what it is doing.\n",
        "**Briefly explain what are these filters detecting. One to two sentences should be sufficient.**\n",
        "\n",
        "**ANSWER HERE**: These filters are detecting the features and edges of different numbers. The combination of these filters can help a model determine a number displayed in a test image.\n"
      ]
    },
    {
      "cell_type": "code",
      "execution_count": 21,
      "metadata": {
        "id": "Mk-j3Oi7EciB",
        "colab": {
          "base_uri": "https://localhost:8080/",
          "height": 744
        },
        "outputId": "9b9269f0-a4ba-4f89-a241-5f6068eb3a96"
      },
      "outputs": [
        {
          "output_type": "display_data",
          "data": {
            "text/plain": [
              "<Figure size 1000x1000 with 32 Axes>"
            ],
            "image/png": "[encoded data removed]"
          },
          "metadata": {}
        }
      ],
      "source": [
        "### ACT21: answer in text box\n",
        "\n",
        "plt.figure(figsize=(10,10))\n",
        "for i in range(32):\n",
        "    plt.subplot(4,8,i+1)\n",
        "    npimg = net.conv1.weight.detach().cpu().numpy()[i, 0] #ACT21\n",
        "    # npimg is a 5-by-5 numpy array corresponding to the i-th filter\n",
        "    # if you need to move npimg off the GPU, you can use .cpu()\n",
        "    # you should convert from PyTorch to Numpy in ACT21\n",
        "    npimg = normalize_image(npimg)\n",
        "    plt.imshow(npimg,cmap=\"gray\",vmin=0,vmax=1)\n",
        "    plt.title(\"filter \"+str(i+1))\n",
        "    plt.axis(\"off\")\n",
        "plt.show()"
      ]
    },
    {
      "cell_type": "markdown",
      "metadata": {
        "id": "JZjzbmKokzJX"
      },
      "source": [
        "### Visualize the input after applying the first layer\n",
        "\n",
        "*  First layer has 32 filters\n",
        "*  Since padding is 2 and kernel is 5-by-5, each output channel will be again 28-by-28\n",
        "*  Let's visualize each of these 32 pictures for one example of each digit\n",
        "\n",
        "**ACT22**\n",
        "**Fill in the code and describe what these images are.\n",
        "\n",
        "**Hint:** Use `net.conv1` to use the `conv1` module defined in the `ConvNet`.  The terms used in the answer are defined in lecture.\n",
        "\n",
        "**ANSWER HERE: These images are the result of the filters being applied to the images of a digit, determining the features the digit has.**"
      ]
    },
    {
      "cell_type": "code",
      "execution_count": null,
      "metadata": {
        "id": "MXW39ehKcRaz"
      },
      "outputs": [],
      "source": [
        "## ACT22: Answer the question in text box\n",
        "### this code picks one sample from each label (each digit) for visualizing purposes\n",
        "sample_digits = dict()\n",
        "for data in train_loader:\n",
        "    for i in range(data[1].shape[0]):\n",
        "        if data[1][i].item() not in sample_digits.keys():\n",
        "            sample_digits[data[1][i].item()]=data[0][i]\n",
        "    if len(sample_digits.keys())==10:\n",
        "        break\n",
        "\n",
        "for digit in range(10):\n",
        "    plt.figure()\n",
        "    data = sample_digits[digit]\n",
        "    npimg = data[0].numpy()\n",
        "    npimg = normalize_image(npimg)\n",
        "    plt.imshow(npimg,cmap=\"gray\",vmin=0,vmax=1)\n",
        "    plt.title(\"original image of digit %d\"%digit)\n",
        "    plt.axis(\"off\")\n",
        "    plt.figure(figsize=(20,20))\n",
        "\n",
        "    with torch.no_grad():\n",
        "        data = data.unsqueeze(0).to(device)\n",
        "        ### ACT23\n",
        "        ### data has shape (1,1,28,28)\n",
        "        ### pass the data to only layer conv1 and apply RELU activation (do not apply maxpooling)\n",
        "        ### the output should be a tensor of size (1,32,28,28)\n",
        "        output = F.relu(net.conv1(data))\n",
        "        print(output.shape)\n",
        "\n",
        "    data_numpy = output.detach().cpu().numpy()\n",
        "    for i in range(32):\n",
        "        plt.subplot(4,8,i+1)\n",
        "        npimg = data_numpy[0,i]\n",
        "        npimg = normalize_image(npimg)\n",
        "        plt.imshow(npimg,cmap=\"gray\",vmin=0,vmax=1)\n",
        "        plt.title(\"output of filter \"+str(i+1))\n",
        "        plt.axis(\"off\")\n",
        "    plt.show()\n",
        "\n",
        "    ###ASSERTS\n",
        "    assert(data.size()==(1,1,28,28))\n",
        "    assert(output.size()==(1,32,28,28))"
      ]
    },
    {
      "cell_type": "markdown",
      "metadata": {
        "id": "Ad7_NR2IejgR"
      },
      "source": [
        "### Comparing with a Fully Connected Neural Network\n",
        "\n",
        "Let's make a fully connected (FC) neural network with a similar number of parameters as your ConvNet. Then, we can compare the performance between the FC net and the ConvNet.\n",
        "\n",
        "First, let's count the parameters in the ConvNet. The first convolutional layer has 32 5x5 filters, so 32\\*5\\*5 = 800 parameters.\n",
        "\n",
        "The second convolutional layer has 64 5x5 filters, so 64\\*5\\*5 = 1600 parameters.\n",
        "\n",
        "The first fully connected layer has an input of size 64\\*x\\*x = 64x^2. You already calculated x in ACT5, but here let's just estimate x as approximately 10, so we'll say the fully connected layer has an input of size 6400, and the output size is 512. So the first fully connected layer has around 6400\\*512 = 3276800 parameters.\n",
        "\n",
        "The last layer has input size 512 and output size 10, so it has 5120 parameters.\n",
        "\n",
        "In total that is roughly 3276800 + 5120 + 800 + 1600 = 3284320 parameters.\n",
        "\n",
        "----------------------------------------------------------\n",
        "\n",
        "For a fully connected network, the input will have size 28 \\* 28 = 784 and the output will have size 10. Let's use 3 hidden layers, with sizes 1500, 1000 and 500. Then the total number of parameters will be:\n",
        "\n",
        "784\\*1500 + 1500\\*1000 + 1000\\*500 + 500\\*10 = 3181000 parameters, which is very similar to our ConvNet. Now let's compare the performance!\n",
        "\n",
        "**ACT24**\n",
        "**In 1-2 sentences explain why Fully Connected Layer performs better or worse than CNN.**\n",
        "\n",
        "**ANSWER HERE: The Fully Connected Layer seems to perform a bit worse at this image classification task because FCNs use pooling that disadvantages them in identifying images (cited from https://www.sciencedirect.com/science/article/abs/pii/S1047320320301929#:~:text=However%2C%20FCN%20has%20the%20following,is%20to%20classify%20each%20pixel.)**"
      ]
    },
    {
      "cell_type": "code",
      "execution_count": 24,
      "metadata": {
        "id": "i5gK26_5ejgS"
      },
      "outputs": [],
      "source": [
        "class FCNet(nn.Module):\n",
        "    def __init__(self):\n",
        "        super(FCNet, self).__init__()\n",
        "        self.input_size = 28 * 28\n",
        "        self.fc1 = nn.Linear(self.input_size, 1500)\n",
        "        self.fc2 = nn.Linear(1500, 1000)\n",
        "        self.fc3 = nn.Linear(1000, 500)\n",
        "        self.fc4 = nn.Linear(500, 10)\n",
        "\n",
        "    def forward(self, x):\n",
        "        x = x.view(-1, self.input_size)\n",
        "        x = F.relu(self.fc1(x))\n",
        "        x = F.relu(self.fc2(x))\n",
        "        x = F.relu(self.fc3(x))\n",
        "        x = self.fc4(x)\n",
        "        return x"
      ]
    },
    {
      "cell_type": "code",
      "execution_count": 25,
      "metadata": {
        "id": "lcBG0xQtejgS",
        "colab": {
          "base_uri": "https://localhost:8080/"
        },
        "outputId": "9e022d84-c516-424b-ce59-920ae3c562d1"
      },
      "outputs": [
        {
          "output_type": "stream",
          "name": "stderr",
          "text": [
            "100%|██████████| 235/235 [00:13<00:00, 17.11it/s]\n"
          ]
        },
        {
          "output_type": "stream",
          "name": "stdout",
          "text": [
            "epoch [1]: loss 0.699\n"
          ]
        },
        {
          "output_type": "stream",
          "name": "stderr",
          "text": [
            "100%|██████████| 235/235 [00:17<00:00, 13.22it/s]\n"
          ]
        },
        {
          "output_type": "stream",
          "name": "stdout",
          "text": [
            "epoch [2]: loss 0.199\n"
          ]
        },
        {
          "output_type": "stream",
          "name": "stderr",
          "text": [
            "100%|██████████| 235/235 [00:14<00:00, 16.62it/s]\n"
          ]
        },
        {
          "output_type": "stream",
          "name": "stdout",
          "text": [
            "epoch [3]: loss 0.134\n"
          ]
        },
        {
          "output_type": "stream",
          "name": "stderr",
          "text": [
            "100%|██████████| 235/235 [00:17<00:00, 13.43it/s]\n"
          ]
        },
        {
          "output_type": "stream",
          "name": "stdout",
          "text": [
            "epoch [4]: loss 0.098\n"
          ]
        },
        {
          "output_type": "stream",
          "name": "stderr",
          "text": [
            "100%|██████████| 235/235 [00:13<00:00, 17.26it/s]\n"
          ]
        },
        {
          "output_type": "stream",
          "name": "stdout",
          "text": [
            "epoch [5]: loss 0.075\n"
          ]
        },
        {
          "output_type": "stream",
          "name": "stderr",
          "text": [
            "100%|██████████| 235/235 [00:13<00:00, 17.33it/s]\n"
          ]
        },
        {
          "output_type": "stream",
          "name": "stdout",
          "text": [
            "epoch [6]: loss 0.059\n"
          ]
        },
        {
          "output_type": "stream",
          "name": "stderr",
          "text": [
            "100%|██████████| 235/235 [00:13<00:00, 16.85it/s]\n"
          ]
        },
        {
          "output_type": "stream",
          "name": "stdout",
          "text": [
            "epoch [7]: loss 0.045\n"
          ]
        },
        {
          "output_type": "stream",
          "name": "stderr",
          "text": [
            "100%|██████████| 235/235 [00:13<00:00, 17.34it/s]\n"
          ]
        },
        {
          "output_type": "stream",
          "name": "stdout",
          "text": [
            "epoch [8]: loss 0.036\n"
          ]
        },
        {
          "output_type": "stream",
          "name": "stderr",
          "text": [
            "100%|██████████| 235/235 [00:13<00:00, 17.66it/s]\n"
          ]
        },
        {
          "output_type": "stream",
          "name": "stdout",
          "text": [
            "epoch [9]: loss 0.029\n"
          ]
        },
        {
          "output_type": "stream",
          "name": "stderr",
          "text": [
            "100%|██████████| 235/235 [00:13<00:00, 17.26it/s]"
          ]
        },
        {
          "output_type": "stream",
          "name": "stdout",
          "text": [
            "epoch [10]: loss 0.022\n"
          ]
        },
        {
          "output_type": "stream",
          "name": "stderr",
          "text": [
            "\n"
          ]
        }
      ],
      "source": [
        "learning_rate = 0.01\n",
        "\n",
        "net_ = FCNet()\n",
        "net_.to(device)\n",
        "opt_ = optim.SGD(net_.parameters(), lr=learning_rate, momentum=0.9)\n",
        "loss_function = nn.CrossEntropyLoss()\n",
        "\n",
        "trainer_ = Trainer(net=net_,optim=opt_,loss_function=loss_function, train_loader=train_loader)\n",
        "\n",
        "losses_ = trainer_.train(num_epochs)"
      ]
    },
    {
      "cell_type": "code",
      "execution_count": 26,
      "metadata": {
        "id": "xQ2P2ASZejgS",
        "colab": {
          "base_uri": "https://localhost:8080/",
          "height": 447
        },
        "outputId": "30187e4b-4c09-4a42-8dfc-c8c5a7d91cbc"
      },
      "outputs": [
        {
          "output_type": "execute_result",
          "data": {
            "text/plain": [
              "[<matplotlib.lines.Line2D at 0x7839d4dd7af0>]"
            ]
          },
          "metadata": {},
          "execution_count": 26
        },
        {
          "output_type": "display_data",
          "data": {
            "text/plain": [
              "<Figure size 640x480 with 1 Axes>"
            ],
            "image/png": "[encoded data removed]"
          },
          "metadata": {}
        }
      ],
      "source": [
        "plt.plot(losses_, linewidth=2, linestyle='-', marker='o')"
      ]
    },
    {
      "cell_type": "code",
      "execution_count": 28,
      "metadata": {
        "id": "DhhaVGCVejgT",
        "colab": {
          "base_uri": "https://localhost:8080/"
        },
        "outputId": "f5ad48c0-150c-4699-c30d-f445b5e74671"
      },
      "outputs": [
        {
          "output_type": "stream",
          "name": "stdout",
          "text": [
            "Accuracy of FC prediction on test digits: 97.86%\n"
          ]
        }
      ],
      "source": [
        "err = 0\n",
        "tot = 0\n",
        "net_.eval()\n",
        "with torch.no_grad():\n",
        "    for data in test_loader:\n",
        "        # ACT18 retrieve X and y for this batch from data and\n",
        "        # move it to GPU (hint: look at what we did in trainer)\n",
        "        X = data[0].to(device)\n",
        "        y = data[1].to(device)\n",
        "\n",
        "        # raw output of network for X\n",
        "        output = net_(X)\n",
        "\n",
        "        # let the maximum index be our predicted class\n",
        "        _, yh = torch.max(output, 1)\n",
        "\n",
        "        # tot will 10,000 at the end, total number of test data\n",
        "        tot += y.size(0)\n",
        "\n",
        "        ## ACT19 add to err number of missclassification, i.e. number of indices that\n",
        "        ## yh and y are not equal\n",
        "        ## note that y and yh are vectors of size = batch_size = (256 in our case)\n",
        "        err += sum(yh != y)\n",
        "\n",
        "print('Accuracy of FC prediction on test digits: %5.2f%%' % (100-100 * err / tot))"
      ]
    }
  ],
  "metadata": {
    "colab": {
      "provenance": [],
      "gpuType": "T4"
    },
    "kernelspec": {
      "display_name": "Python 3",
      "name": "python3"
    },
    "language_info": {
      "codemirror_mode": {
        "name": "ipython",
        "version": 3
      },
      "file_extension": ".py",
      "mimetype": "text/x-python",
      "name": "python",
      "nbconvert_exporter": "python",
      "pygments_lexer": "ipython3",
      "version": "3.9.7"
    },
    "accelerator": "GPU"
  },
  "nbformat": 4,
  "nbformat_minor": 0
}